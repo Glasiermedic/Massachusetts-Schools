{
  "nbformat": 4,
  "nbformat_minor": 0,
  "metadata": {
    "colab": {
      "name": "Mass. Schooling.ipynb",
      "version": "0.3.2",
      "provenance": [],
      "include_colab_link": true
    },
    "kernelspec": {
      "name": "python3",
      "display_name": "Python 3"
    }
  },
  "cells": [
    {
      "cell_type": "markdown",
      "metadata": {
        "id": "view-in-github",
        "colab_type": "text"
      },
      "source": [
        "<a href=\"https://colab.research.google.com/github/Glasiermedic/Massachusetts-Schools/blob/master/Mass_Schooling.ipynb\" target=\"_parent\"><img src=\"https://colab.research.google.com/assets/colab-badge.svg\" alt=\"Open In Colab\"/></a>"
      ]
    },
    {
      "metadata": {
        "id": "LRR3d42Bv-Zx",
        "colab_type": "text"
      },
      "cell_type": "markdown",
      "source": [
        "# Massachusetts School System\n",
        "## Analysis prediction\n",
        "\n",
        "### Data Exploration\n",
        "#### I am very interested in identifying the current contributing factors for graduation rates, college admission test scores and 4 yr. college attendance rates in Massachusetts schools.  In this project I will first identity any trends or notable statistics around the variables. \n",
        "\n",
        "### Data cleaning and preparation\n",
        "#### I will filter out features that add no value to the prediction like the school name, street address and city name.  I will also address any features that contain missing or placeholder data.  I will fit the data to a scale allowing the models to be more effective, utlize a correlation matrix and a random forest algorithm to determine the feature importance and if needed use Boruta to refine our features down to a managable and efficient set.  \n",
        "\n",
        "### Modeling and model validation. \n",
        "#### As a part of the project I will define our exact question we will answer, identify the metric we will measure and create a model for predicting the outcome of our metric.  \n",
        "\n",
        "##### Data used for this project came from the repository on Kaggle posted by [Nigel Dalziel](https://www.kaggle.com/ndalziel/massachusetts-public-schools-data#MA_Public_Schools_2017.csv).  Data compiled from [Massachusetts Department of Education ]http://profiles.doe.mass.edu/state_report/)"
      ]
    },
    {
      "metadata": {
        "id": "aYFXVFohv0Ie",
        "colab_type": "code",
        "outputId": "02f9a82d-c947-4598-a7b3-8f563f0baa8f",
        "colab": {
          "base_uri": "https://localhost:8080/",
          "height": 241
        }
      },
      "cell_type": "code",
      "source": [
        "import pandas as pd\n",
        "import numpy as np\n",
        "import re\n",
        "import matplotlib.pyplot as plt\n",
        "import seaborn as sns; sns.set()\n",
        "!pip3 install seaborn==0.9.0\n",
        "\n",
        "from sklearn.metrics import confusion_matrix\n",
        "from sklearn.preprocessing import StandardScaler \n",
        "from sklearn.model_selection import GridSearchCV\n",
        "from sklearn.pipeline import Pipeline\n",
        "\n",
        "from sklearn.ensemble import RandomForestRegressor\n",
        "from sklearn import ensemble\n",
        "from sklearn.model_selection import train_test_split\n",
        "#from sklearn.model_selection import cross_val_predict\n",
        "\n",
        "import warnings\n",
        "warnings.filterwarnings('ignore')\n",
        "\n",
        "%matplotlib inline\n",
        "sns.set_style('white')\n"
      ],
      "execution_count": 1,
      "outputs": [
        {
          "output_type": "stream",
          "text": [
            "Requirement already satisfied: seaborn==0.9.0 in /usr/local/lib/python3.6/dist-packages (0.9.0)\n",
            "Requirement already satisfied: matplotlib>=1.4.3 in /usr/local/lib/python3.6/dist-packages (from seaborn==0.9.0) (3.0.3)\n",
            "Requirement already satisfied: pandas>=0.15.2 in /usr/local/lib/python3.6/dist-packages (from seaborn==0.9.0) (0.24.2)\n",
            "Requirement already satisfied: scipy>=0.14.0 in /usr/local/lib/python3.6/dist-packages (from seaborn==0.9.0) (1.2.1)\n",
            "Requirement already satisfied: numpy>=1.9.3 in /usr/local/lib/python3.6/dist-packages (from seaborn==0.9.0) (1.16.3)\n",
            "Requirement already satisfied: python-dateutil>=2.1 in /usr/local/lib/python3.6/dist-packages (from matplotlib>=1.4.3->seaborn==0.9.0) (2.5.3)\n",
            "Requirement already satisfied: pyparsing!=2.0.4,!=2.1.2,!=2.1.6,>=2.0.1 in /usr/local/lib/python3.6/dist-packages (from matplotlib>=1.4.3->seaborn==0.9.0) (2.4.0)\n",
            "Requirement already satisfied: cycler>=0.10 in /usr/local/lib/python3.6/dist-packages (from matplotlib>=1.4.3->seaborn==0.9.0) (0.10.0)\n",
            "Requirement already satisfied: kiwisolver>=1.0.1 in /usr/local/lib/python3.6/dist-packages (from matplotlib>=1.4.3->seaborn==0.9.0) (1.1.0)\n",
            "Requirement already satisfied: pytz>=2011k in /usr/local/lib/python3.6/dist-packages (from pandas>=0.15.2->seaborn==0.9.0) (2018.9)\n",
            "Requirement already satisfied: six>=1.5 in /usr/local/lib/python3.6/dist-packages (from python-dateutil>=2.1->matplotlib>=1.4.3->seaborn==0.9.0) (1.12.0)\n",
            "Requirement already satisfied: setuptools in /usr/local/lib/python3.6/dist-packages (from kiwisolver>=1.0.1->matplotlib>=1.4.3->seaborn==0.9.0) (41.0.1)\n"
          ],
          "name": "stdout"
        }
      ]
    },
    {
      "metadata": {
        "id": "gd66ltnzwFmg",
        "colab_type": "code",
        "colab": {}
      },
      "cell_type": "code",
      "source": [
        "#importing the data from CSV file\n",
        "mass_ed = pd.read_csv(\"https://raw.githubusercontent.com/Glasiermedic/Massachusetts-Schools/master/MA_Public_Schools_2017.csv\", thousands = \",\")"
      ],
      "execution_count": 0,
      "outputs": []
    },
    {
      "metadata": {
        "id": "GPSDtRmMlIGm",
        "colab_type": "text"
      },
      "cell_type": "markdown",
      "source": [
        "#### The raw data from Massachusetts Schools includes the data for 1,861 schools.  They collected data over 302 different variables inlcuding the name of the school the school code and the physical location.  "
      ]
    },
    {
      "metadata": {
        "id": "HWjiNluBPHbc",
        "colab_type": "code",
        "outputId": "b85c9d9d-86a2-4211-abd6-196d002bd0ee",
        "colab": {
          "base_uri": "https://localhost:8080/",
          "height": 102
        }
      },
      "cell_type": "code",
      "source": [
        "#inspecting the dataframe for shape and content\n",
        "mass_ed.info()"
      ],
      "execution_count": 3,
      "outputs": [
        {
          "output_type": "stream",
          "text": [
            "<class 'pandas.core.frame.DataFrame'>\n",
            "RangeIndex: 1861 entries, 0 to 1860\n",
            "Columns: 302 entries, School Code to District_Progress and Performance Index (PPI) - High Needs Students\n",
            "dtypes: float64(267), int64(19), object(16)\n",
            "memory usage: 4.3+ MB\n"
          ],
          "name": "stdout"
        }
      ]
    },
    {
      "metadata": {
        "id": "L0TCBqlcOxzL",
        "colab_type": "code",
        "colab": {}
      },
      "cell_type": "code",
      "source": [
        "# converint school type into a categorical variable usable by algorithms. \n",
        "for i in range(0,len(mass_ed['School Type'])):\n",
        "  if (mass_ed['School Type'][i]) == 'Public School':\n",
        "    mass_ed.at[i,'School Type']= 0\n",
        "  else: \n",
        "    mass_ed.at[i,'School Type']= 1\n"
      ],
      "execution_count": 0,
      "outputs": []
    },
    {
      "metadata": {
        "id": "TtSI7aaMTl3a",
        "colab_type": "code",
        "outputId": "6e1a0f42-141f-43d6-e9f5-6c8ffadd61f8",
        "colab": {
          "base_uri": "https://localhost:8080/",
          "height": 68
        }
      },
      "cell_type": "code",
      "source": [
        "# counting how many are public versus private and other alternatives. \n",
        "mass_ed['School Type'].value_counts()"
      ],
      "execution_count": 5,
      "outputs": [
        {
          "output_type": "execute_result",
          "data": {
            "text/plain": [
              "0    1778\n",
              "1      83\n",
              "Name: School Type, dtype: int64"
            ]
          },
          "metadata": {
            "tags": []
          },
          "execution_count": 5
        }
      ]
    },
    {
      "metadata": {
        "id": "a4YJNf5HO4zn",
        "colab_type": "code",
        "colab": {}
      },
      "cell_type": "code",
      "source": [
        "#creating a function to replace and remove unwanted characters and spaces.\n",
        "def multiple_replacer(*key_values):\n",
        "    replace_dict = dict(key_values)\n",
        "    replacement_function = lambda match: replace_dict[match.group(0)]\n",
        "    pattern = re.compile(\"|\".join([re.escape(k) for k, v in key_values]), re.M)\n",
        "    return lambda string: pattern.sub(replacement_function, string)\n",
        "\n",
        "def multiple_replace(string, *key_values):\n",
        "    return multiple_replacer(*key_values)(string)\n",
        "  \n",
        "  \n",
        "replacements = (' ','_'), ('%', 'percent'), ('#', 'num'), ('(1-99)', \"\")\n",
        "#Example:  multiple_replace(\"Sales % with #people\", *replacements))"
      ],
      "execution_count": 0,
      "outputs": []
    },
    {
      "metadata": {
        "id": "rI4zjiW1xu9w",
        "colab_type": "code",
        "colab": {}
      },
      "cell_type": "code",
      "source": [
        "# using our function above to standardize and simplify the names of our variables\n",
        "# including converting them to lowercase. \n",
        "ed_col = []\n",
        "ed_columns =[]\n",
        "for col in mass_ed.columns:\n",
        "  ed_col.append(multiple_replace(col, *replacements))\n",
        "for item in ed_col:\n",
        "  ed_columns.append(item.lower())\n",
        "#print(ed_columns) "
      ],
      "execution_count": 0,
      "outputs": []
    },
    {
      "metadata": {
        "id": "s8bTG36NUwFJ",
        "colab_type": "code",
        "colab": {}
      },
      "cell_type": "code",
      "source": [
        "# applying the new column labels to the data. \n",
        "mass_ed.columns = ed_columns"
      ],
      "execution_count": 0,
      "outputs": []
    },
    {
      "metadata": {
        "id": "BMxI1hckUvDl",
        "colab_type": "code",
        "colab": {}
      },
      "cell_type": "code",
      "source": [
        "# replacing all the missing/empty entries with zero to allow some of the algorithms to function correctly. \n",
        "mass_ed = mass_ed.replace(np.NAN, 0)"
      ],
      "execution_count": 0,
      "outputs": []
    },
    {
      "metadata": {
        "id": "6WLipJ_6pP9V",
        "colab_type": "text"
      },
      "cell_type": "markdown",
      "source": [
        "### Cleaning up the variables for feature selection\n",
        "\n",
        "#### Some of the variables are the name and contact information for each school and their school code, these are all categorical in nature..    The School code was removed because it is a redundant indexing of data.  Many models will not except text and/or categorical data so the following variables have been removed for those reasons:\n",
        "\n",
        "'function',  'contact_name',  'address_1',  'address_2',  'town', 'state',  'zip', 'phone',  'fax', 'grade',  'district_name',  'district_code'"
      ]
    },
    {
      "metadata": {
        "id": "DcS8q4DFhnA8",
        "colab_type": "code",
        "colab": {}
      },
      "cell_type": "code",
      "source": [
        "# removing the contact information and school code for each school to allow for our preliminary model(s) to function. \n",
        "mass_ed = mass_ed.drop(['school_code', 'function', 'contact_name', 'address_1', 'address_2', 'town', 'state', 'zip', 'phone', 'fax', 'grade', 'district_name', 'district_code'], axis = 1)"
      ],
      "execution_count": 0,
      "outputs": []
    },
    {
      "metadata": {
        "id": "Phh46CXsrhjN",
        "colab_type": "text"
      },
      "cell_type": "markdown",
      "source": [
        "####  In Massachusetts middle school/junior high is not a set grade range.  We also have many charter and private schools represent a variety of grade ranges.  To address this issue we have divided the schools into five categories. K-12, [0], Elementary through 6th grade and special programs [1], middle/junior [2], 9th-12th [3], preschool/K [4]"
      ]
    },
    {
      "metadata": {
        "id": "_NdMWhUrwO9p",
        "colab_type": "code",
        "outputId": "1c003b91-3d9e-4449-d6b2-336541477b6c",
        "colab": {
          "base_uri": "https://localhost:8080/",
          "height": 51
        }
      },
      "cell_type": "code",
      "source": [
        "# To help identify schools by their type we have created a numerical categorical variable which we will use to sort/filter the data.  \n",
        "%%time \n",
        "\n",
        "def data_preprocess(x):\n",
        "  if (x['1_enrollment'] > 1) and (x['11_enrollment']> 1) and (x['6_enrollment'] > 1):\n",
        "    x['school_type'] = 0\n",
        "  if (x['pk_enrollment'] > 1) and (x['1_enrollment'] < 1):\n",
        "    x['school_type'] = 4  \n",
        "  elif (x['9_enrollment'] +  x['10_enrollment'] +  x['11_enrollment'] +  x['12_enrollment']) > 1:\n",
        "    x['school_type'] = 3\n",
        "  elif (x['7_enrollment'] > 1):\n",
        "    x['school_type'] = 2\n",
        "  else:\n",
        "    x['school_type'] = 1\n",
        "  \n",
        "  return x\n",
        "  \n",
        "  \n",
        "\n",
        "#mass_ed_copy.apply(lambda x: x['1_enrollment'], axis=1)\n",
        "mass_ed = mass_ed.apply(lambda x: data_preprocess(x), axis=1)"
      ],
      "execution_count": 11,
      "outputs": [
        {
          "output_type": "stream",
          "text": [
            "CPU times: user 614 ms, sys: 13.5 ms, total: 628 ms\n",
            "Wall time: 632 ms\n"
          ],
          "name": "stdout"
        }
      ]
    },
    {
      "metadata": {
        "id": "wMAdPgM5wZBa",
        "colab_type": "code",
        "outputId": "64a66064-9f47-4557-ae4d-a006f3e50baa",
        "colab": {
          "base_uri": "https://localhost:8080/",
          "height": 363
        }
      },
      "cell_type": "code",
      "source": [
        "#filtering for all the schools that are high schools or K-12 schools for inclusion in the model. \n",
        "\n",
        "mass_ed_high = mass_ed.loc[mass_ed['school_type']==3]\n",
        "mass_ed_high.add(mass_ed.loc[mass_ed['school_type']==0])\n",
        "mass_ed_high.describe()"
      ],
      "execution_count": 12,
      "outputs": [
        {
          "output_type": "execute_result",
          "data": {
            "text/html": [
              "<div>\n",
              "<style scoped>\n",
              "    .dataframe tbody tr th:only-of-type {\n",
              "        vertical-align: middle;\n",
              "    }\n",
              "\n",
              "    .dataframe tbody tr th {\n",
              "        vertical-align: top;\n",
              "    }\n",
              "\n",
              "    .dataframe thead th {\n",
              "        text-align: right;\n",
              "    }\n",
              "</style>\n",
              "<table border=\"1\" class=\"dataframe\">\n",
              "  <thead>\n",
              "    <tr style=\"text-align: right;\">\n",
              "      <th></th>\n",
              "      <th>school_type</th>\n",
              "      <th>pk_enrollment</th>\n",
              "      <th>k_enrollment</th>\n",
              "      <th>1_enrollment</th>\n",
              "      <th>2_enrollment</th>\n",
              "      <th>3_enrollment</th>\n",
              "      <th>4_enrollment</th>\n",
              "      <th>5_enrollment</th>\n",
              "      <th>6_enrollment</th>\n",
              "      <th>7_enrollment</th>\n",
              "      <th>...</th>\n",
              "      <th>percent_mcas_10thgrade_english_w/f</th>\n",
              "      <th>mcas_10thgrade_english_stud._incl._num</th>\n",
              "      <th>mcas_10thgrade_english_cpi</th>\n",
              "      <th>mcas_10thgrade_english_sgp</th>\n",
              "      <th>mcas_10thgrade_english_incl._in_sgp(num)</th>\n",
              "      <th>school_accountability_percentile_</th>\n",
              "      <th>progress_and_performance_index_(ppi)_-_all_students</th>\n",
              "      <th>progress_and_performance_index_(ppi)_-_high_needs_students</th>\n",
              "      <th>district_progress_and_performance_index_(ppi)_-_all_students</th>\n",
              "      <th>district_progress_and_performance_index_(ppi)_-_high_needs_students</th>\n",
              "    </tr>\n",
              "  </thead>\n",
              "  <tbody>\n",
              "    <tr>\n",
              "      <th>count</th>\n",
              "      <td>386.0</td>\n",
              "      <td>386.000000</td>\n",
              "      <td>386.000000</td>\n",
              "      <td>386.000000</td>\n",
              "      <td>386.000000</td>\n",
              "      <td>386.000000</td>\n",
              "      <td>386.000000</td>\n",
              "      <td>386.000000</td>\n",
              "      <td>386.000000</td>\n",
              "      <td>386.000000</td>\n",
              "      <td>...</td>\n",
              "      <td>386.000000</td>\n",
              "      <td>386.000000</td>\n",
              "      <td>386.000000</td>\n",
              "      <td>386.000000</td>\n",
              "      <td>386.000000</td>\n",
              "      <td>386.000000</td>\n",
              "      <td>386.000000</td>\n",
              "      <td>386.000000</td>\n",
              "      <td>386.000000</td>\n",
              "      <td>386.00000</td>\n",
              "    </tr>\n",
              "    <tr>\n",
              "      <th>mean</th>\n",
              "      <td>3.0</td>\n",
              "      <td>0.207254</td>\n",
              "      <td>3.284974</td>\n",
              "      <td>3.443005</td>\n",
              "      <td>3.279793</td>\n",
              "      <td>3.243523</td>\n",
              "      <td>3.266839</td>\n",
              "      <td>5.813472</td>\n",
              "      <td>11.238342</td>\n",
              "      <td>19.733161</td>\n",
              "      <td>...</td>\n",
              "      <td>2.093264</td>\n",
              "      <td>162.007772</td>\n",
              "      <td>84.419430</td>\n",
              "      <td>41.791451</td>\n",
              "      <td>142.455959</td>\n",
              "      <td>42.800518</td>\n",
              "      <td>62.932642</td>\n",
              "      <td>54.668394</td>\n",
              "      <td>63.303109</td>\n",
              "      <td>59.15285</td>\n",
              "    </tr>\n",
              "    <tr>\n",
              "      <th>std</th>\n",
              "      <td>0.0</td>\n",
              "      <td>2.943370</td>\n",
              "      <td>18.244277</td>\n",
              "      <td>18.774067</td>\n",
              "      <td>18.416381</td>\n",
              "      <td>18.425780</td>\n",
              "      <td>18.326300</td>\n",
              "      <td>26.261946</td>\n",
              "      <td>34.546865</td>\n",
              "      <td>46.309224</td>\n",
              "      <td>...</td>\n",
              "      <td>3.997610</td>\n",
              "      <td>139.683678</td>\n",
              "      <td>32.499896</td>\n",
              "      <td>22.092660</td>\n",
              "      <td>122.546909</td>\n",
              "      <td>32.272848</td>\n",
              "      <td>30.528090</td>\n",
              "      <td>32.072303</td>\n",
              "      <td>17.752961</td>\n",
              "      <td>15.93982</td>\n",
              "    </tr>\n",
              "    <tr>\n",
              "      <th>min</th>\n",
              "      <td>3.0</td>\n",
              "      <td>0.000000</td>\n",
              "      <td>0.000000</td>\n",
              "      <td>0.000000</td>\n",
              "      <td>0.000000</td>\n",
              "      <td>0.000000</td>\n",
              "      <td>0.000000</td>\n",
              "      <td>0.000000</td>\n",
              "      <td>0.000000</td>\n",
              "      <td>0.000000</td>\n",
              "      <td>...</td>\n",
              "      <td>0.000000</td>\n",
              "      <td>0.000000</td>\n",
              "      <td>0.000000</td>\n",
              "      <td>0.000000</td>\n",
              "      <td>0.000000</td>\n",
              "      <td>0.000000</td>\n",
              "      <td>0.000000</td>\n",
              "      <td>0.000000</td>\n",
              "      <td>0.000000</td>\n",
              "      <td>0.00000</td>\n",
              "    </tr>\n",
              "    <tr>\n",
              "      <th>25%</th>\n",
              "      <td>3.0</td>\n",
              "      <td>0.000000</td>\n",
              "      <td>0.000000</td>\n",
              "      <td>0.000000</td>\n",
              "      <td>0.000000</td>\n",
              "      <td>0.000000</td>\n",
              "      <td>0.000000</td>\n",
              "      <td>0.000000</td>\n",
              "      <td>0.000000</td>\n",
              "      <td>0.000000</td>\n",
              "      <td>...</td>\n",
              "      <td>0.000000</td>\n",
              "      <td>55.500000</td>\n",
              "      <td>93.300000</td>\n",
              "      <td>35.125000</td>\n",
              "      <td>45.250000</td>\n",
              "      <td>11.250000</td>\n",
              "      <td>58.000000</td>\n",
              "      <td>47.000000</td>\n",
              "      <td>53.000000</td>\n",
              "      <td>54.00000</td>\n",
              "    </tr>\n",
              "    <tr>\n",
              "      <th>50%</th>\n",
              "      <td>3.0</td>\n",
              "      <td>0.000000</td>\n",
              "      <td>0.000000</td>\n",
              "      <td>0.000000</td>\n",
              "      <td>0.000000</td>\n",
              "      <td>0.000000</td>\n",
              "      <td>0.000000</td>\n",
              "      <td>0.000000</td>\n",
              "      <td>0.000000</td>\n",
              "      <td>0.000000</td>\n",
              "      <td>...</td>\n",
              "      <td>1.000000</td>\n",
              "      <td>120.500000</td>\n",
              "      <td>97.800000</td>\n",
              "      <td>46.750000</td>\n",
              "      <td>111.500000</td>\n",
              "      <td>42.000000</td>\n",
              "      <td>71.000000</td>\n",
              "      <td>65.000000</td>\n",
              "      <td>63.000000</td>\n",
              "      <td>57.00000</td>\n",
              "    </tr>\n",
              "    <tr>\n",
              "      <th>75%</th>\n",
              "      <td>3.0</td>\n",
              "      <td>0.000000</td>\n",
              "      <td>0.000000</td>\n",
              "      <td>0.000000</td>\n",
              "      <td>0.000000</td>\n",
              "      <td>0.000000</td>\n",
              "      <td>0.000000</td>\n",
              "      <td>0.000000</td>\n",
              "      <td>0.000000</td>\n",
              "      <td>0.000000</td>\n",
              "      <td>...</td>\n",
              "      <td>2.000000</td>\n",
              "      <td>260.250000</td>\n",
              "      <td>99.200000</td>\n",
              "      <td>56.750000</td>\n",
              "      <td>221.500000</td>\n",
              "      <td>71.000000</td>\n",
              "      <td>83.000000</td>\n",
              "      <td>76.000000</td>\n",
              "      <td>72.750000</td>\n",
              "      <td>68.00000</td>\n",
              "    </tr>\n",
              "    <tr>\n",
              "      <th>max</th>\n",
              "      <td>3.0</td>\n",
              "      <td>54.000000</td>\n",
              "      <td>178.000000</td>\n",
              "      <td>182.000000</td>\n",
              "      <td>183.000000</td>\n",
              "      <td>191.000000</td>\n",
              "      <td>191.000000</td>\n",
              "      <td>244.000000</td>\n",
              "      <td>242.000000</td>\n",
              "      <td>386.000000</td>\n",
              "      <td>...</td>\n",
              "      <td>44.000000</td>\n",
              "      <td>925.000000</td>\n",
              "      <td>100.000000</td>\n",
              "      <td>88.000000</td>\n",
              "      <td>757.000000</td>\n",
              "      <td>99.000000</td>\n",
              "      <td>100.000000</td>\n",
              "      <td>100.000000</td>\n",
              "      <td>100.000000</td>\n",
              "      <td>100.00000</td>\n",
              "    </tr>\n",
              "  </tbody>\n",
              "</table>\n",
              "<p>8 rows × 284 columns</p>\n",
              "</div>"
            ],
            "text/plain": [
              "       school_type  pk_enrollment  k_enrollment  1_enrollment  2_enrollment  \\\n",
              "count        386.0     386.000000    386.000000    386.000000    386.000000   \n",
              "mean           3.0       0.207254      3.284974      3.443005      3.279793   \n",
              "std            0.0       2.943370     18.244277     18.774067     18.416381   \n",
              "min            3.0       0.000000      0.000000      0.000000      0.000000   \n",
              "25%            3.0       0.000000      0.000000      0.000000      0.000000   \n",
              "50%            3.0       0.000000      0.000000      0.000000      0.000000   \n",
              "75%            3.0       0.000000      0.000000      0.000000      0.000000   \n",
              "max            3.0      54.000000    178.000000    182.000000    183.000000   \n",
              "\n",
              "       3_enrollment  4_enrollment  5_enrollment  6_enrollment  7_enrollment  \\\n",
              "count    386.000000    386.000000    386.000000    386.000000    386.000000   \n",
              "mean       3.243523      3.266839      5.813472     11.238342     19.733161   \n",
              "std       18.425780     18.326300     26.261946     34.546865     46.309224   \n",
              "min        0.000000      0.000000      0.000000      0.000000      0.000000   \n",
              "25%        0.000000      0.000000      0.000000      0.000000      0.000000   \n",
              "50%        0.000000      0.000000      0.000000      0.000000      0.000000   \n",
              "75%        0.000000      0.000000      0.000000      0.000000      0.000000   \n",
              "max      191.000000    191.000000    244.000000    242.000000    386.000000   \n",
              "\n",
              "       ...  percent_mcas_10thgrade_english_w/f  \\\n",
              "count  ...                          386.000000   \n",
              "mean   ...                            2.093264   \n",
              "std    ...                            3.997610   \n",
              "min    ...                            0.000000   \n",
              "25%    ...                            0.000000   \n",
              "50%    ...                            1.000000   \n",
              "75%    ...                            2.000000   \n",
              "max    ...                           44.000000   \n",
              "\n",
              "       mcas_10thgrade_english_stud._incl._num  mcas_10thgrade_english_cpi  \\\n",
              "count                              386.000000                  386.000000   \n",
              "mean                               162.007772                   84.419430   \n",
              "std                                139.683678                   32.499896   \n",
              "min                                  0.000000                    0.000000   \n",
              "25%                                 55.500000                   93.300000   \n",
              "50%                                120.500000                   97.800000   \n",
              "75%                                260.250000                   99.200000   \n",
              "max                                925.000000                  100.000000   \n",
              "\n",
              "       mcas_10thgrade_english_sgp  mcas_10thgrade_english_incl._in_sgp(num)  \\\n",
              "count                  386.000000                                386.000000   \n",
              "mean                    41.791451                                142.455959   \n",
              "std                     22.092660                                122.546909   \n",
              "min                      0.000000                                  0.000000   \n",
              "25%                     35.125000                                 45.250000   \n",
              "50%                     46.750000                                111.500000   \n",
              "75%                     56.750000                                221.500000   \n",
              "max                     88.000000                                757.000000   \n",
              "\n",
              "       school_accountability_percentile_  \\\n",
              "count                         386.000000   \n",
              "mean                           42.800518   \n",
              "std                            32.272848   \n",
              "min                             0.000000   \n",
              "25%                            11.250000   \n",
              "50%                            42.000000   \n",
              "75%                            71.000000   \n",
              "max                            99.000000   \n",
              "\n",
              "       progress_and_performance_index_(ppi)_-_all_students  \\\n",
              "count                                         386.000000     \n",
              "mean                                           62.932642     \n",
              "std                                            30.528090     \n",
              "min                                             0.000000     \n",
              "25%                                            58.000000     \n",
              "50%                                            71.000000     \n",
              "75%                                            83.000000     \n",
              "max                                           100.000000     \n",
              "\n",
              "       progress_and_performance_index_(ppi)_-_high_needs_students  \\\n",
              "count                                         386.000000            \n",
              "mean                                           54.668394            \n",
              "std                                            32.072303            \n",
              "min                                             0.000000            \n",
              "25%                                            47.000000            \n",
              "50%                                            65.000000            \n",
              "75%                                            76.000000            \n",
              "max                                           100.000000            \n",
              "\n",
              "       district_progress_and_performance_index_(ppi)_-_all_students  \\\n",
              "count                                         386.000000              \n",
              "mean                                           63.303109              \n",
              "std                                            17.752961              \n",
              "min                                             0.000000              \n",
              "25%                                            53.000000              \n",
              "50%                                            63.000000              \n",
              "75%                                            72.750000              \n",
              "max                                           100.000000              \n",
              "\n",
              "       district_progress_and_performance_index_(ppi)_-_high_needs_students  \n",
              "count                                          386.00000                    \n",
              "mean                                            59.15285                    \n",
              "std                                             15.93982                    \n",
              "min                                              0.00000                    \n",
              "25%                                             54.00000                    \n",
              "50%                                             57.00000                    \n",
              "75%                                             68.00000                    \n",
              "max                                            100.00000                    \n",
              "\n",
              "[8 rows x 284 columns]"
            ]
          },
          "metadata": {
            "tags": []
          },
          "execution_count": 12
        }
      ]
    },
    {
      "metadata": {
        "id": "s_mqH2X4vJey",
        "colab_type": "text"
      },
      "cell_type": "markdown",
      "source": [
        "###  Investigating the precentage of students who go on to attend college. \n",
        "\n",
        "#### There appears to be a percentage of schools that are reporting 0% which has shifted the average and standard deviation.  Upon evaluating the specific school reporting none of their students have gone on to college it was determined they are special programs and they have been filtered out. \n",
        "\n",
        "#### There are 328 schools with a range of 10% to 100% going on to attend college.  The average for the schools is 74.3% with a majority of the schools falling into the 90% to 58% range.  "
      ]
    },
    {
      "metadata": {
        "id": "VCiz4HLAwaQT",
        "colab_type": "code",
        "outputId": "1f0f845a-c51b-46b2-c752-20aca6873751",
        "colab": {
          "base_uri": "https://localhost:8080/",
          "height": 170
        }
      },
      "cell_type": "code",
      "source": [
        "\n",
        "print (mass_ed_high['percent_attending_college'].describe())"
      ],
      "execution_count": 13,
      "outputs": [
        {
          "output_type": "stream",
          "text": [
            "count    386.000000\n",
            "mean      63.158808\n",
            "std       30.580845\n",
            "min        0.000000\n",
            "25%       54.625000\n",
            "50%       75.500000\n",
            "75%       85.700000\n",
            "max      100.000000\n",
            "Name: percent_attending_college, dtype: float64\n"
          ],
          "name": "stdout"
        }
      ]
    },
    {
      "metadata": {
        "id": "slu03JA0U9tH",
        "colab_type": "code",
        "colab": {}
      },
      "cell_type": "code",
      "source": [
        "mass_ed_high = mass_ed_high[mass_ed_high.percent_attending_college != 0]"
      ],
      "execution_count": 0,
      "outputs": []
    },
    {
      "metadata": {
        "id": "PUnPYxu8xC3n",
        "colab_type": "code",
        "outputId": "02479090-d556-46e7-ab20-679cc54fa2db",
        "colab": {
          "base_uri": "https://localhost:8080/",
          "height": 170
        }
      },
      "cell_type": "code",
      "source": [
        "print (mass_ed_high['percent_attending_college'].describe())"
      ],
      "execution_count": 15,
      "outputs": [
        {
          "output_type": "stream",
          "text": [
            "count    328.000000\n",
            "mean      74.327134\n",
            "std       16.383352\n",
            "min       10.500000\n",
            "25%       67.775000\n",
            "50%       77.650000\n",
            "75%       86.925000\n",
            "max      100.000000\n",
            "Name: percent_attending_college, dtype: float64\n"
          ],
          "name": "stdout"
        }
      ]
    },
    {
      "metadata": {
        "id": "HYc1DzD0VmIL",
        "colab_type": "code",
        "outputId": "eb4c02a8-6e3c-4639-81ba-0edc59b3ed78",
        "colab": {
          "base_uri": "https://localhost:8080/",
          "height": 459
        }
      },
      "cell_type": "code",
      "source": [
        "\n",
        "print (\"most frequent precentage of college attendance: \\n{} \\n\".format(mass_ed_high['percent_attending_college'].value_counts().head(10)))\n",
        "\n",
        "print (\"less frequent precentage of college attendance: \\n{} \\n\".format(mass_ed_high['percent_attending_college'].value_counts().tail(10)))"
      ],
      "execution_count": 16,
      "outputs": [
        {
          "output_type": "stream",
          "text": [
            "most frequent precentage of college attendance: \n",
            "87.5    5\n",
            "87.7    4\n",
            "89.9    4\n",
            "89.3    4\n",
            "71.4    4\n",
            "89.5    4\n",
            "76.6    3\n",
            "87.9    3\n",
            "84.6    3\n",
            "72.8    3\n",
            "Name: percent_attending_college, dtype: int64 \n",
            "\n",
            "less frequent precentage of college attendance: \n",
            "58.6    1\n",
            "91.7    1\n",
            "52.4    1\n",
            "45.6    1\n",
            "33.6    1\n",
            "84.4    1\n",
            "47.7    1\n",
            "40.7    1\n",
            "42.6    1\n",
            "69.3    1\n",
            "Name: percent_attending_college, dtype: int64 \n",
            "\n"
          ],
          "name": "stdout"
        }
      ]
    },
    {
      "metadata": {
        "id": "4KGAwdyRWRj9",
        "colab_type": "code",
        "outputId": "5f04aacb-b70f-411b-cae9-a6ed4760fad4",
        "colab": {
          "base_uri": "https://localhost:8080/",
          "height": 400
        }
      },
      "cell_type": "code",
      "source": [
        "plt.figure(figsize=(12, 6))\n",
        "sns.distplot(mass_ed_high['percent_attending_college'])\n",
        "\n",
        "plt.savefig('prec.png')"
      ],
      "execution_count": 17,
      "outputs": [
        {
          "output_type": "display_data",
          "data": {
            "image/png": "[encoded data removed]",
            "text/plain": [
              "<Figure size 864x432 with 1 Axes>"
            ]
          },
          "metadata": {
            "tags": []
          }
        }
      ]
    },
    {
      "metadata": {
        "id": "fLE56EDgYD4f",
        "colab_type": "text"
      },
      "cell_type": "markdown",
      "source": [
        "### Selecting Features"
      ]
    },
    {
      "metadata": {
        "id": "RHLI4ybM1DJB",
        "colab_type": "text"
      },
      "cell_type": "markdown",
      "source": [
        "#### For the purposes of this project we are looking at factors that we use to predict the college attendance of students.  Variables that relate to graduating high school and post high school aternatives have been excluded from the possible feature list.  Including gender, socio-economic and ethnical variables was also considered.  It was determined that including gender, ethic data and thee economic-status with the understanding that we are not intending to shift the percentages to improve a schools college attendance outcomes, rather to hightlight that a need for further investigation maybe needed.  "
      ]
    },
    {
      "metadata": {
        "id": "qi--ddpGyxUT",
        "colab_type": "code",
        "colab": {}
      },
      "cell_type": "code",
      "source": [
        "# This cell allows for the exclusion of gender, economic status and ethnicity. \n",
        "\n",
        "#mass_ed_high.drop(['economically_disadvantaged',\n",
        "#       'percent_economically_disadvantaged', 'percent_african_american',\n",
        "#      'percent_asian', 'percent_hispanic', 'percent_white',\n",
        "#       'percent_native_american', 'percent_native_hawaiian,_pacific_islander',\n",
        "#       'percent_multi-race,_non-hispanic', 'percent_males', 'percent_females'])"
      ],
      "execution_count": 0,
      "outputs": []
    },
    {
      "metadata": {
        "id": "MdpdlLThbp02",
        "colab_type": "code",
        "outputId": "511d6e6d-dda9-4897-cb30-3327fc6cebda",
        "colab": {
          "base_uri": "https://localhost:8080/",
          "height": 71
        }
      },
      "cell_type": "code",
      "source": [
        "X = mass_ed_high.drop(['high_school_graduates_(num)', 'percent_umass', 'percent_private_two-year', 'percent_public_two-year', 'percent_ma_community_college', 'percent_private_four-year', 'percent_mcas_10thgrade_english_a', 'percent_ma_state_university', 'attending_coll./univ._(num)', 'percent_public_four-year', 'percent_attending_college', 'school_name', 'high_needs', 'economically_disadvantaged', 'percent_mcas_10thgrade_english_p+a', 'accountability_and_assistance_level', 'accountability_and_assistance_description', 'progress_and_performance_index_(ppi)_-_all_students', 'progress_and_performance_index_(ppi)_-_high_needs_students', 'district_accountability_and_assistance_level', 'district_accountability_and_assistance_description', 'district_progress_and_performance_index_(ppi)_-_all_students', 'district_progress_and_performance_index_(ppi)_-_high_needs_students'],axis =1)\n",
        "#X = mass_ed_high.drop(['percent_attending_college'],axis =1)\n",
        "\n",
        "y = mass_ed_high['percent_attending_college'] \n",
        "print(y.shape)\n",
        "print (X.shape)"
      ],
      "execution_count": 19,
      "outputs": [
        {
          "output_type": "stream",
          "text": [
            "(328,)\n",
            "(328, 266)\n"
          ],
          "name": "stdout"
        }
      ]
    },
    {
      "metadata": {
        "id": "XX2S9BOLJbhz",
        "colab_type": "text"
      },
      "cell_type": "markdown",
      "source": [
        "#### The data needs to be scaled for some of the machine learning models.  In most instances the performance of the models improves with scaling.  "
      ]
    },
    {
      "metadata": {
        "id": "mYjqJG1MZhLY",
        "colab_type": "code",
        "colab": {}
      },
      "cell_type": "code",
      "source": [
        "scaler = StandardScaler()\n",
        "\n",
        "\n",
        "from sklearn.model_selection import KFold\n",
        "kfolds = KFold(n_splits =5, random_state=1)\n",
        "\n",
        "X_train, X_test, y_train, y_test = train_test_split(X, y, test_size=0.2, random_state=1)\n",
        "\n"
      ],
      "execution_count": 0,
      "outputs": []
    },
    {
      "metadata": {
        "id": "J88YSZfcAMjd",
        "colab_type": "code",
        "colab": {}
      },
      "cell_type": "code",
      "source": [
        "forest = RandomForestRegressor(max_depth=7,n_jobs=-1, random_state=1, n_estimators=100, verbose=0)\n",
        "\n",
        "\n"
      ],
      "execution_count": 0,
      "outputs": []
    },
    {
      "metadata": {
        "id": "87suA_5z-ffs",
        "colab_type": "code",
        "outputId": "b919ae17-7820-42b7-8aae-d156d4fb7930",
        "colab": {
          "base_uri": "https://localhost:8080/",
          "height": 136
        }
      },
      "cell_type": "code",
      "source": [
        "pipe_forest = Pipeline([('scaler', StandardScaler()), ('model', forest)])\n",
        "pipe_forest.fit(X_train, y_train)"
      ],
      "execution_count": 22,
      "outputs": [
        {
          "output_type": "execute_result",
          "data": {
            "text/plain": [
              "Pipeline(memory=None,\n",
              "     steps=[('scaler', StandardScaler(copy=True, with_mean=True, with_std=True)), ('model', RandomForestRegressor(bootstrap=True, criterion='mse', max_depth=7,\n",
              "           max_features='auto', max_leaf_nodes=None,\n",
              "           min_impurity_decrease=0.0, min_impurity_split=None,\n",
              "           min_samples_leaf=1, min_samples_split=2,\n",
              "           min_weight_fraction_leaf=0.0, n_estimators=100, n_jobs=-1,\n",
              "           oob_score=False, random_state=1, verbose=0, warm_start=False))])"
            ]
          },
          "metadata": {
            "tags": []
          },
          "execution_count": 22
        }
      ]
    },
    {
      "metadata": {
        "id": "9haSBiirgr2l",
        "colab_type": "code",
        "outputId": "1da66c2c-81eb-436d-bb80-d7c4dc43a4eb",
        "colab": {
          "base_uri": "https://localhost:8080/",
          "height": 393
        }
      },
      "cell_type": "code",
      "source": [
        "importances_for = forest.feature_importances_\n",
        "\n",
        "indices = np.argsort(importances_for)[::-1]\n",
        "for_imp_feat = []\n",
        "\n",
        "for f in range(X.shape[1]):\n",
        "    for_imp_feat.append(X.columns[indices[f]])\n",
        "\n",
        "importances_df = pd.Series(importances_for, index=X.columns)\n",
        "importances_df.nlargest(30).sort_values().plot(kind='barh', figsize=(12, 6)) \n",
        "plt.title(\"Random Forest Importances\")\n",
        "plt.show()"
      ],
      "execution_count": 23,
      "outputs": [
        {
          "output_type": "display_data",
          "data": {
            "image/png": "[encoded data removed]",
            "text/plain": [
              "<Figure size 864x432 with 1 Axes>"
            ]
          },
          "metadata": {
            "tags": []
          }
        }
      ]
    },
    {
      "metadata": {
        "id": "Zv5jies_BFjg",
        "colab_type": "code",
        "colab": {}
      },
      "cell_type": "code",
      "source": [
        "import xgboost as xgb\n",
        "xg_reg_lin = xgb.XGBRegressor(objective ='reg:linear', \n",
        "                          learning_rate =0.1,\n",
        " n_estimators=1000,\n",
        " max_depth=5,\n",
        " min_child_weight=1,\n",
        " gamma=0,\n",
        " subsample=0.8,\n",
        " colsample_bytree=0.8,\n",
        "  nthread=4,\n",
        " scale_pos_weight=1, scoring='neg_mean_squared_error', random_state =1)"
      ],
      "execution_count": 0,
      "outputs": []
    },
    {
      "metadata": {
        "id": "bkvKWkP0iRrs",
        "colab_type": "code",
        "outputId": "408692af-bf48-49da-9dc2-1fece634aee9",
        "colab": {
          "base_uri": "https://localhost:8080/",
          "height": 119
        }
      },
      "cell_type": "code",
      "source": [
        "pipe_xgb = Pipeline([('scaler', StandardScaler()), ('model', xg_reg_lin)])\n",
        "pipe_xgb.fit(X_train, y_train)"
      ],
      "execution_count": 31,
      "outputs": [
        {
          "output_type": "execute_result",
          "data": {
            "text/plain": [
              "Pipeline(memory=None,\n",
              "     steps=[('scaler', StandardScaler(copy=True, with_mean=True, with_std=True)), ('model', XGBRegressor(base_score=0.5, booster='gbtree', colsample_bylevel=1,\n",
              "       colsample_bytree=0.8, gamma=0, importance_type='gain',\n",
              "       learning_rate=0.1, max_delta_step=0, max_depth=5,\n",
              "       min_child_weight=1,...cale_pos_weight=1, scoring='neg_mean_squared_error',\n",
              "       seed=None, silent=True, subsample=0.8))])"
            ]
          },
          "metadata": {
            "tags": []
          },
          "execution_count": 31
        }
      ]
    },
    {
      "metadata": {
        "id": "hM8J7aAXh3b7",
        "colab_type": "code",
        "outputId": "fa872718-49fa-4233-fad2-1aff3d47e7e6",
        "colab": {
          "base_uri": "https://localhost:8080/",
          "height": 393
        }
      },
      "cell_type": "code",
      "source": [
        "importances_xgb = xg_reg_lin.feature_importances_\n",
        "\n",
        "indices = np.argsort(importances_xgb)[::-1]\n",
        "xgb_imp_feat = []\n",
        "\n",
        "for f in range(X.shape[1]):\n",
        "    xgb_imp_feat.append(X.columns[indices[f]])\n",
        "\n",
        "importances_df = pd.Series(importances_xgb, index=X.columns)\n",
        "importances_df.nlargest(30).sort_values().plot(kind='barh', figsize=(12, 6)) \n",
        "plt.title(\"XGBoost Importances\")\n",
        "plt.show()\n"
      ],
      "execution_count": 32,
      "outputs": [
        {
          "output_type": "display_data",
          "data": {
            "image/png": "[encoded data removed]",
            "text/plain": [
              "<Figure size 864x432 with 1 Axes>"
            ]
          },
          "metadata": {
            "tags": []
          }
        }
      ]
    },
    {
      "metadata": {
        "id": "8HWXxctUO7wt",
        "colab_type": "code",
        "colab": {
          "base_uri": "https://localhost:8080/",
          "height": 34
        },
        "outputId": "b7658791-edb2-4fdf-c569-a7e4a19b6dc2"
      },
      "cell_type": "code",
      "source": [
        "\n",
        "\n",
        "#print(pipe_xgb.score(X_test,y_test))"
      ],
      "execution_count": 40,
      "outputs": [
        {
          "output_type": "stream",
          "text": [
            "0.6819839635858023\n"
          ],
          "name": "stdout"
        }
      ]
    },
    {
      "metadata": {
        "id": "PtNxY6zpjIxP",
        "colab_type": "code",
        "colab": {}
      },
      "cell_type": "code",
      "source": [
        "from sklearn import linear_model\n",
        "\n",
        "lasso = linear_model.Lasso(alpha=0.9, copy_X=True, fit_intercept=False, max_iter=300,\n",
        "   normalize=True, positive=False, precompute=False, random_state=1,\n",
        "   selection='cyclic', tol=0.0001, warm_start=False)\n"
      ],
      "execution_count": 0,
      "outputs": []
    },
    {
      "metadata": {
        "id": "zvwLo674B1LT",
        "colab_type": "code",
        "colab": {}
      },
      "cell_type": "code",
      "source": [
        "pipe_lasso = Pipeline([('scaler', StandardScaler()), ('model', lasso)])\n",
        "pipe_lasso.fit(X_train, y_train)"
      ],
      "execution_count": 0,
      "outputs": []
    },
    {
      "metadata": {
        "id": "fxUMWc99pBS0",
        "colab_type": "code",
        "colab": {}
      },
      "cell_type": "code",
      "source": [
        "indices = np.argsort(lasso.coef_)[::-1]\n",
        "lasso_imp_feat = []\n",
        "\n",
        "for f in range(X.shape[1]):\n",
        "    lasso_imp_feat.append(X.columns[indices[f]])\n",
        "\n",
        "importances_df = pd.Series(lasso.coef_, index=X.columns)\n",
        "importances_df.nlargest(30).sort_values().plot(kind='barh', figsize=(12, 6)) \n",
        "plt.title(\"Lasso Importances\")\n",
        "\n",
        "plt.show()"
      ],
      "execution_count": 0,
      "outputs": []
    },
    {
      "metadata": {
        "id": "Yw0WRTBAcWP5",
        "colab_type": "code",
        "colab": {}
      },
      "cell_type": "code",
      "source": [
        "lasso_imp_feat[:35]"
      ],
      "execution_count": 0,
      "outputs": []
    },
    {
      "metadata": {
        "id": "X6VbNz9Kr6am",
        "colab_type": "code",
        "colab": {}
      },
      "cell_type": "code",
      "source": [
        "# Function to find common elements in n arrays \n",
        "def commonElements(arr): \n",
        "\t\n",
        "\t# initialize result with first array as a set \n",
        "\tresult = set(arr[0]) \n",
        "\n",
        "\t# now iterate through list of arrays starting from \n",
        "\t# second array and take intersection_update() of \n",
        "\t# each array with result. Every operation will \n",
        "\t# update value of result with common values in \n",
        "\t# result set and intersected set \n",
        "\tfor currSet in arr[1:]: \n",
        "\t\tresult.intersection_update(currSet) \n",
        "\n",
        "\treturn list(result) \n",
        "\n",
        " \n",
        "arr = [lasso_imp_feat[:80], xgb_imp_feat[:80], for_imp_feat[:80]] \n",
        "output = commonElements(arr) \n",
        "if len(output) > 0: \n",
        "\tprint (len(output))\n",
        "else: \n",
        "\tprint ('No Common Elements Found')\n"
      ],
      "execution_count": 0,
      "outputs": []
    },
    {
      "metadata": {
        "id": "Pjo9W23lkfg1",
        "colab_type": "code",
        "colab": {}
      },
      "cell_type": "code",
      "source": [
        "output "
      ],
      "execution_count": 0,
      "outputs": []
    },
    {
      "metadata": {
        "id": "oiC8lufh5Wn-",
        "colab_type": "code",
        "colab": {}
      },
      "cell_type": "code",
      "source": [
        "X_for = X[list(for_imp_feat)[:16]]\n",
        "\n",
        "X_xgb = X[list(xgb_imp_feat)[:16]]\n",
        "\n",
        "X_lasso = X[list(lasso_imp_feat)[:16]]\n",
        "X_lasso35 = X[list(lasso_imp_feat)[:35]]\n",
        "\n",
        "X_out =X[list(output)]\n",
        "\n",
        "feat_list = [X_for, X_xgb, X_lasso, X_lasso25, X_out]\n",
        "print_list =['Random Forest', 'XGBoost', 'Lasso', 'Lasso_25', 'Combined']\n",
        "\n",
        "X_out.shape\n"
      ],
      "execution_count": 0,
      "outputs": []
    },
    {
      "metadata": {
        "id": "qcnTZvvpjTfK",
        "colab_type": "text"
      },
      "cell_type": "markdown",
      "source": [
        "### Lasso models \n",
        "#### Logic loop running through the four feature importance lists generated.  Grid search with cross validation is used to select the best parameters for the model.  \n"
      ]
    },
    {
      "metadata": {
        "id": "XF0gTo1UDYoJ",
        "colab_type": "text"
      },
      "cell_type": "markdown",
      "source": [
        "grid = GridSearchCV(pipe_knn, param_grid=grid_params, \n",
        "                    scoring='accuracy', cv=kfolds, \n",
        "                    return_train_score=True, verbose=1, n_jobs=-1)   model__n_neighbors'"
      ]
    },
    {
      "metadata": {
        "id": "gYEs47ndDYQn",
        "colab_type": "code",
        "colab": {}
      },
      "cell_type": "code",
      "source": [
        ""
      ],
      "execution_count": 0,
      "outputs": []
    },
    {
      "metadata": {
        "id": "e_IJaJn2aYvz",
        "colab_type": "code",
        "colab": {}
      },
      "cell_type": "code",
      "source": [
        "%%time\n",
        "alpha_list = [.012, .014, .015 , .018, .020, .022, .024, .025, .026, .27, .028, .3, .32, .1]\n",
        "parameters = {'alpha': alpha_list,\n",
        "                    'fit_intercept': [True,False], \n",
        "                    'normalize' :[True], 'max_iter':[40, 45, 50, 55, 60]}\n",
        "\n",
        "for i in range (0,5):\n",
        "  X_train, X_test, y_train, y_test = train_test_split(feat_list[i], y, random_state =1, test_size = 0.2)\n",
        "  \n",
        "  print (\"------ \" +print_list[i] + \" -------\")\n",
        "  lasso_grid = GridSearchCV(lasso, parameters, cv=kfolds, scoring='neg_mean_squared_error')\n",
        "  lasso_grid.fit(X_train,y_train)        \n",
        "  print (lasso_grid.best_estimator_)\n",
        "  print(np.sqrt(-lasso_grid.best_score_))\n",
        "  \n",
        "  y_pred_lasso = lasso_grid.predict(X_test)"
      ],
      "execution_count": 0,
      "outputs": []
    },
    {
      "metadata": {
        "id": "A75FbFKvmC3N",
        "colab_type": "text"
      },
      "cell_type": "markdown",
      "source": [
        "Random Forest"
      ]
    },
    {
      "metadata": {
        "id": "0AI274Ach2L2",
        "colab_type": "code",
        "colab": {}
      },
      "cell_type": "code",
      "source": [
        "%%time\n",
        "forest = RandomForestRegressor(max_depth=7,n_jobs=-1, random_state=1, n_estimators=100, verbose=0)\n",
        "\n",
        "\n",
        "alpha_list = [.012, .014, .015 , .018, .020, .022, .024, .025, .026, .028, .1]\n",
        "parametersr = {'max_depth': [ 16], 'n_estimators': [900]}\n",
        "\n",
        "#for i in range (0,5):\n",
        "X_train, X_test, y_train, y_test = train_test_split(X_lasso35, y, random_state =1, test_size = 0.2)\n",
        "  \n",
        "print (\"------ Lasso Importance -------\")\n",
        "forest_grid = GridSearchCV(forest, parametersr, cv=kfolds, scoring='neg_mean_squared_error')\n",
        "forest_grid.fit(X_train,y_train)\n",
        "print (forest_grid.best_estimator_)\n",
        "print(np.sqrt(-forest_grid.best_score_))\n",
        "  \n",
        "  \n",
        "y_pred_forest = forest_grid.predict(X_test)"
      ],
      "execution_count": 0,
      "outputs": []
    },
    {
      "metadata": {
        "id": "eRels7DGm0c0",
        "colab_type": "text"
      },
      "cell_type": "markdown",
      "source": [
        "XGBoost"
      ]
    },
    {
      "metadata": {
        "id": "Qe4N4XRom26N",
        "colab_type": "code",
        "colab": {}
      },
      "cell_type": "code",
      "source": [
        "%%time\n",
        "xg_reg_lin = xgb.XGBRegressor(objective ='reg:linear', gamma=0, max_leaf_nodes=2, subsample=0.8, colsample_bytree=0.8, nthread=4, scale_pos_weight=1, random_state =1)\n",
        "\n",
        "parametersg2 = {'gamma':[i/50.0 for i in range(6,10)], 'subsample':[i/10.0 for i in range(3,5)], 'learning_rate': [.025], 'max_depth': [5], 'n_estimators': [250], 'min_child_weight':[8],\n",
        " 'colsample_bytree':[i/10.0 for i in range(6,8)]}\n",
        "\n",
        "#parametersg1 = {'learning_rate': [.024, .025, .026], 'max_depth': [3, 4], 'n_estimators': [200, 250, 300], 'min_child_weight':[7,8,9]}\n",
        "\n",
        "#for i in range (0):\n",
        "X_train, X_test, y_train, y_test = train_test_split(X_lasso25, y, random_state =1, test_size = 0.2)\n",
        "  \n",
        "print (\"------ Lasso Importance -------\")\n",
        "xgb_grid = GridSearchCV(xg_reg_lin, parametersg2, cv=kfolds, scoring='neg_mean_squared_error')\n",
        "xgb_grid.fit(X_train,y_train)\n",
        "print (xgb_grid.best_estimator_)\n",
        "print(np.sqrt(-xgb_grid.best_score_))\n",
        "  \n",
        "#xgb_grid.fit(X,y)  \n",
        "#y_pred_xgb = xgb_grid.predict(X)"
      ],
      "execution_count": 0,
      "outputs": []
    },
    {
      "metadata": {
        "id": "CHrycUaAjVmo",
        "colab_type": "text"
      },
      "cell_type": "markdown",
      "source": [
        "#### This section fine tunes the number of features for the XGBoost model.  The optimum number of features with the fine tuning of hyperparameters produces the best results at 25 features.  "
      ]
    },
    {
      "metadata": {
        "id": "QUkWcMiJRp2v",
        "colab_type": "code",
        "colab": {}
      },
      "cell_type": "code",
      "source": [
        "%%time\n",
        "xg_reg_lin = xgb.XGBRegressor(objective ='reg:linear', gamma=0, max_leaf_nodes=2, subsample=0.8, colsample_bytree=0.8, nthread=4, scale_pos_weight=1, random_state =1)\n",
        "\n",
        "parametersg2 = {'gamma':[i/50.0 for i in range(8,10)], 'subsample':[i/10.0 for i in range(4,5)], 'learning_rate': [.025], 'max_depth': [4], 'n_estimators': [225,250,275], 'min_child_weight':[8],\n",
        " 'colsample_bytree':[i/10.0 for i in range(6,7)]}\n",
        "\n",
        "#parametersg1 = {'learning_rate': [.024, .025, .026], 'max_depth': [3, 4], 'n_estimators': [200, 250, 300], 'min_child_weight':[7,8,9]}\n",
        "\n",
        "feat_list2 = [25, 26, 27, 28, 29, 30, 31, 32, 33, 34, 35]\n",
        "\n",
        "\n",
        "for i in feat_list2:\n",
        "#for i in range (0,51)\n",
        "  X_train, X_test, y_train, y_test = train_test_split(X[list(lasso_imp_feat)[:i]], y, random_state =1, test_size = 0.2)\n",
        "  \n",
        "  print (\"------ \" + str(i) +\" -------\")\n",
        "  xgb_grid = GridSearchCV(xg_reg_lin, parametersg2, cv=kfolds, scoring='neg_mean_squared_error', verbose = 1)\n",
        "  xgb_grid.fit(X_train,y_train)\n",
        "  print (X_train.shape)\n",
        "  print (xgb_grid.best_estimator_)\n",
        "  print(np.sqrt(-xgb_grid.best_score_))"
      ],
      "execution_count": 0,
      "outputs": []
    },
    {
      "metadata": {
        "id": "k-OC3v8ohXne",
        "colab_type": "code",
        "colab": {}
      },
      "cell_type": "code",
      "source": [
        "xg_reg_lin = xgb.XGBRegressor(objective ='reg:linear', \n",
        "                          learning_rate =0.025, gamma=0.16, \n",
        " n_estimators=225,\n",
        " max_depth=4,\n",
        " min_child_weight=8, \n",
        " subsample=0.4,\n",
        " colsample_bytree=0.6,\n",
        "  nthread=4, max_leaf_nodes=2, \n",
        " scale_pos_weight=1, scoring='neg_mean_squared_error', random_state =1)\n",
        "\n",
        "X_train, X_test, y_train, y_test = train_test_split(X[list(lasso_imp_feat)[:35]], y, random_state =1, test_size = 0.2)"
      ],
      "execution_count": 0,
      "outputs": []
    },
    {
      "metadata": {
        "id": "bCX6jGsAxPpv",
        "colab_type": "code",
        "colab": {},
        "cellView": "both"
      },
      "cell_type": "code",
      "source": [
        "#@title\n",
        "pipe_xgb = Pipeline([('scaler', StandardScaler()), ('model', xg_reg_lin)])\n",
        "pipe_xgb.fit(X_train, y_train)\n",
        "\n",
        "print (pipe_xgb.score(X_test,y_test))\n",
        "\n",
        "print(\"accurate to within: %{} for our training data \".format(np.sqrt(-xgb_grid.best_score_)))"
      ],
      "execution_count": 0,
      "outputs": []
    },
    {
      "metadata": {
        "id": "farafKuWy3NA",
        "colab_type": "code",
        "colab": {},
        "cellView": "form"
      },
      "cell_type": "code",
      "source": [
        "#@title\n",
        "\n",
        "pipe_final = Pipeline([('scaler', StandardScaler())])\n",
        "pipe_final.fit(X_lasso35, y)\n",
        "\n"
      ],
      "execution_count": 0,
      "outputs": []
    },
    {
      "metadata": {
        "id": "pOlV5KIsN8f8",
        "colab_type": "code",
        "colab": {},
        "cellView": "form"
      },
      "cell_type": "code",
      "source": [
        "#@title\n",
        "#takes the average of the actual minus the predicted for the data entries.  \n",
        "\n",
        "average_error =(y-pipe_xgb.predict(X_lasso35)).mean()\n",
        "\n",
        "stand_dev =(y-pipe_xgb.predict(X_lasso35)).std()\n",
        "\n",
        "print (\"the average error using the XGBoost model is :%{}\".format(average_error))\n",
        "\n",
        "print (\"the standard deviation using the XGBoost model is :%{}\".format(stand_dev))"
      ],
      "execution_count": 0,
      "outputs": []
    },
    {
      "metadata": {
        "id": "nnoQ9nnYDNao",
        "colab_type": "code",
        "colab": {}
      },
      "cell_type": "code",
      "source": [
        "\n",
        "plt.figure(figsize=(20, 10))\n",
        "sns.lineplot(x = X_lasso35.index, y = y, label ='Actual', )\n",
        "sns.lineplot(x = X_lasso35.index, y = (pipe_xgb.predict(X_lasso35)), color ='red', label ='Predicted')\n",
        "plt.title('Actual vs. Predicted')\n",
        "plt.legend\n",
        "sns.lineplot(x = X_lasso25.index, y = (y-(pipe_xgb.predict(X_lasso35))), label ='difference')\n",
        "plt.show()"
      ],
      "execution_count": 0,
      "outputs": []
    },
    {
      "metadata": {
        "id": "0XF4PIcsoWQP",
        "colab_type": "code",
        "colab": {}
      },
      "cell_type": "code",
      "source": [
        "from sklearn.neighbors import KNeighborsRegressor\n",
        "neigh = KNeighborsRegressor(n_neighbors=5, leaf_size=30)\n",
        "\n",
        "\n",
        "parameters = {'n_neighbors': [2, 3, 4, 5, 6], 'leaf_size': [10, 20, 30]}\n",
        "\n",
        "\n",
        "feat_list2 = [1, 3, 5]\n",
        "\n",
        "final = '24 features'\n",
        "for i in feat_list2:\n",
        "  X_train, X_test, y_train, y_test = train_test_split(X[list(lasso_imp_feat)[:i]], y, random_state =1, test_size = 0.2)\n",
        "  \n",
        "  print (\"------ \" + str(i) +\" -------\")\n",
        "  knn_grid = GridSearchCV(neigh, parameters, cv=kfolds, scoring='neg_mean_squared_error')\n",
        "  knn_grid.fit(X_train,y_train)\n",
        "  print (knn_grid.best_estimator_)\n",
        "  print(np.sqrt(-knn_grid.best_score_))"
      ],
      "execution_count": 0,
      "outputs": []
    },
    {
      "metadata": {
        "id": "e07QCaNw-mr6",
        "colab_type": "code",
        "colab": {}
      },
      "cell_type": "code",
      "source": [
        "from sklearn import linear_model\n",
        "bayes = linear_model.BayesianRidge(normalize = True, compute_score= True, )\n",
        "\n",
        "alpha_list = [1e-02, 1e-04, 1e-06]\n",
        "\n",
        "parameters = {'n_iter': [1,2, 3,4, 5], 'alpha_1': alpha_list, 'alpha_2': alpha_list, 'lambda_1': alpha_list, 'lambda_2': alpha_list, 'tol': alpha_list}\n",
        "\n",
        "feat_list2 = [13, 91]\n",
        "\n",
        "\n",
        "#for i in feat_list2:\n",
        "for i in range(1, 5, 2):\n",
        "  X_train, X_test, y_train, y_test = train_test_split(X[list(lasso_imp_feat)[:i]], y, random_state =1, test_size = 0.2)\n",
        "  \n",
        "  print (\"------ \" + str(i) +\" -------\")\n",
        "  bayes_grid = GridSearchCV(bayes, parameters, cv=kfolds, scoring='neg_mean_squared_error', verbose = 1 )\n",
        "  bayes_grid.fit(X_train,y_train)\n",
        "  print (bayes_grid.best_estimator_)\n",
        "  print(np.sqrt(-bayes_grid.best_score_))"
      ],
      "execution_count": 0,
      "outputs": []
    },
    {
      "metadata": {
        "id": "SuE5XXfUVJvg",
        "colab_type": "code",
        "colab": {}
      },
      "cell_type": "code",
      "source": [
        "for col in X_lasso35:\n",
        "  sns_plot = sns.distplot(mass_ed_high[col], label = col)\n",
        "  #plt.title(col)\n",
        "  plt.show()\n",
        "  \n",
        "  "
      ],
      "execution_count": 0,
      "outputs": []
    },
    {
      "metadata": {
        "id": "0XlvcYuaQdI3",
        "colab_type": "code",
        "colab": {}
      },
      "cell_type": "code",
      "source": [
        "for col in X_lasso35:\n",
        "  plt.title(col)\n",
        "  sns.scatterplot(x = col, y ='percent_attending_college', data = mass_ed_high, hue = \"percent_graduated\" )\n",
        "  plt.show()"
      ],
      "execution_count": 0,
      "outputs": []
    },
    {
      "metadata": {
        "id": "3tY67-xMYGSu",
        "colab_type": "code",
        "colab": {}
      },
      "cell_type": "code",
      "source": [
        "corr = X_lasso35.corr()\n",
        "sns.heatmap(corr, \n",
        "            xticklabels=corr.columns.values,\n",
        "            yticklabels=corr.columns.values)"
      ],
      "execution_count": 0,
      "outputs": []
    },
    {
      "metadata": {
        "id": "LH-5lTzuFzXR",
        "colab_type": "code",
        "colab": {}
      },
      "cell_type": "code",
      "source": [
        ""
      ],
      "execution_count": 0,
      "outputs": []
    }
  ]
}