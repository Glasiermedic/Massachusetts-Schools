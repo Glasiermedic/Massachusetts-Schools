{
  "nbformat": 4,
  "nbformat_minor": 0,
  "metadata": {
    "colab": {
      "name": "Mass. Schooling.ipynb",
      "version": "0.3.2",
      "provenance": [],
      "include_colab_link": true
    },
    "kernelspec": {
      "name": "python3",
      "display_name": "Python 3"
    }
  },
  "cells": [
    {
      "cell_type": "markdown",
      "metadata": {
        "id": "view-in-github",
        "colab_type": "text"
      },
      "source": [
        "<a href=\"https://colab.research.google.com/github/Glasiermedic/Massachusetts-Schools/blob/master/Mass_Schooling.ipynb\" target=\"_parent\"><img src=\"https://colab.research.google.com/assets/colab-badge.svg\" alt=\"Open In Colab\"/></a>"
      ]
    },
    {
      "metadata": {
        "id": "LRR3d42Bv-Zx",
        "colab_type": "text"
      },
      "cell_type": "markdown",
      "source": [
        "# Massachusetts School System\n",
        "## Analysis prediction\n",
        "\n",
        "### Data Exploration\n",
        "#### I am very interested in identifying the current contributing factors for graduation rates, college admission test scores and 4 yr. college attendance rates in Massachusetts schools.  In this project I will first identity any trends or notable statistics around the variables. \n",
        "\n",
        "### Data cleaning and preparation\n",
        "#### I will filter out features that add no value to the prediction like the school name, street address and city name.  I will also address any features that contain missing or placeholder data.  I will fit the data to a scale allowing the models to be more effective, utlize a correlation matrix and a random forest algorithm to determine the feature importance and if needed use Boruta to refine our features down to a managable and efficient set.  \n",
        "\n",
        "### Modeling and model validation. \n",
        "#### As a part of the project I will define our exact question we will answer, identify the metric we will measure and create a model for predicting the outcome of our metric.  \n",
        "\n",
        "##### Data used for this project came from the repository on Kaggle posted by [Nigel Dalziel](https://www.kaggle.com/ndalziel/massachusetts-public-schools-data#MA_Public_Schools_2017.csv).  Data compiled from [Massachusetts Department of Education ]http://profiles.doe.mass.edu/state_report/)"
      ]
    },
    {
      "metadata": {
        "id": "aYFXVFohv0Ie",
        "colab_type": "code",
        "colab": {
          "base_uri": "https://localhost:8080/",
          "height": 241
        },
        "outputId": "f0662865-f1d1-4689-ff50-0eb0df36d287"
      },
      "cell_type": "code",
      "source": [
        "import pandas as pd\n",
        "import numpy as np\n",
        "import matplotlib.pyplot as plt\n",
        "import seaborn as sns; sns.set()\n",
        "#!pip install boruta\n",
        "!pip3 install seaborn==0.9.0\n",
        "\n",
        "#from sklearn.linear_model import LogisticRegression\n",
        "from sklearn.linear_model import LogisticRegressionCV\n",
        "from sklearn.metrics import confusion_matrix\n",
        "from sklearn.preprocessing import MinMaxScaler \n",
        "from sklearn.feature_selection import RFECV\n",
        "from sklearn.model_selection import GridSearchCV\n",
        "from sklearn.svm import SVC\n",
        "\n",
        "from sklearn.ensemble import RandomForestRegressor\n",
        "#from boruta import boruta_py\n",
        "from sklearn import ensemble\n",
        "from sklearn.model_selection import cross_val_score\n",
        "from sklearn.model_selection import train_test_split\n",
        "from sklearn.model_selection import StratifiedShuffleSplit\n",
        "from sklearn.metrics import classification_report\n",
        "from sklearn.model_selection import cross_val_predict\n",
        "\n",
        "import warnings\n",
        "warnings.filterwarnings('ignore')"
      ],
      "execution_count": 2,
      "outputs": [
        {
          "output_type": "stream",
          "text": [
            "Requirement already satisfied: seaborn==0.9.0 in /usr/local/lib/python3.6/dist-packages (0.9.0)\n",
            "Requirement already satisfied: pandas>=0.15.2 in /usr/local/lib/python3.6/dist-packages (from seaborn==0.9.0) (0.24.2)\n",
            "Requirement already satisfied: matplotlib>=1.4.3 in /usr/local/lib/python3.6/dist-packages (from seaborn==0.9.0) (3.0.3)\n",
            "Requirement already satisfied: scipy>=0.14.0 in /usr/local/lib/python3.6/dist-packages (from seaborn==0.9.0) (1.2.1)\n",
            "Requirement already satisfied: numpy>=1.9.3 in /usr/local/lib/python3.6/dist-packages (from seaborn==0.9.0) (1.16.3)\n",
            "Requirement already satisfied: python-dateutil>=2.5.0 in /usr/local/lib/python3.6/dist-packages (from pandas>=0.15.2->seaborn==0.9.0) (2.5.3)\n",
            "Requirement already satisfied: pytz>=2011k in /usr/local/lib/python3.6/dist-packages (from pandas>=0.15.2->seaborn==0.9.0) (2018.9)\n",
            "Requirement already satisfied: cycler>=0.10 in /usr/local/lib/python3.6/dist-packages (from matplotlib>=1.4.3->seaborn==0.9.0) (0.10.0)\n",
            "Requirement already satisfied: pyparsing!=2.0.4,!=2.1.2,!=2.1.6,>=2.0.1 in /usr/local/lib/python3.6/dist-packages (from matplotlib>=1.4.3->seaborn==0.9.0) (2.4.0)\n",
            "Requirement already satisfied: kiwisolver>=1.0.1 in /usr/local/lib/python3.6/dist-packages (from matplotlib>=1.4.3->seaborn==0.9.0) (1.0.1)\n",
            "Requirement already satisfied: six>=1.5 in /usr/local/lib/python3.6/dist-packages (from python-dateutil>=2.5.0->pandas>=0.15.2->seaborn==0.9.0) (1.12.0)\n",
            "Requirement already satisfied: setuptools in /usr/local/lib/python3.6/dist-packages (from kiwisolver>=1.0.1->matplotlib>=1.4.3->seaborn==0.9.0) (40.9.0)\n"
          ],
          "name": "stdout"
        }
      ]
    },
    {
      "metadata": {
        "id": "gd66ltnzwFmg",
        "colab_type": "code",
        "colab": {}
      },
      "cell_type": "code",
      "source": [
        "mass_ed = pd.read_csv(\"https://raw.githubusercontent.com/Glasiermedic/Massachusetts-Schools/master/MA_Public_Schools_2017.csv\", thousands = \",\")"
      ],
      "execution_count": 0,
      "outputs": []
    },
    {
      "metadata": {
        "id": "HWjiNluBPHbc",
        "colab_type": "code",
        "colab": {
          "base_uri": "https://localhost:8080/",
          "height": 102
        },
        "outputId": "5aa39132-17f2-49e6-a348-392480fb9429"
      },
      "cell_type": "code",
      "source": [
        "mass_ed.info()"
      ],
      "execution_count": 4,
      "outputs": [
        {
          "output_type": "stream",
          "text": [
            "<class 'pandas.core.frame.DataFrame'>\n",
            "RangeIndex: 1861 entries, 0 to 1860\n",
            "Columns: 302 entries, School Code to District_Progress and Performance Index (PPI) - High Needs Students\n",
            "dtypes: float64(267), int64(19), object(16)\n",
            "memory usage: 4.3+ MB\n"
          ],
          "name": "stdout"
        }
      ]
    },
    {
      "metadata": {
        "id": "L0TCBqlcOxzL",
        "colab_type": "code",
        "colab": {}
      },
      "cell_type": "code",
      "source": [
        "for i in range(0,len(mass_ed['School Type'])):\n",
        "  if (mass_ed['School Type'][i]) == 'Public School':\n",
        "    mass_ed.at[i,'School Type']= 0\n",
        "  else: \n",
        "    mass_ed.at[i,'School Type']= 1\n"
      ],
      "execution_count": 0,
      "outputs": []
    },
    {
      "metadata": {
        "id": "TtSI7aaMTl3a",
        "colab_type": "code",
        "colab": {
          "base_uri": "https://localhost:8080/",
          "height": 34
        },
        "outputId": "81d0c919-8712-48af-f594-7a6e960b2247"
      },
      "cell_type": "code",
      "source": [
        "mass_ed['School Type'].unique()"
      ],
      "execution_count": 6,
      "outputs": [
        {
          "output_type": "execute_result",
          "data": {
            "text/plain": [
              "array([0, 1], dtype=object)"
            ]
          },
          "metadata": {
            "tags": []
          },
          "execution_count": 6
        }
      ]
    },
    {
      "metadata": {
        "id": "a4YJNf5HO4zn",
        "colab_type": "code",
        "colab": {}
      },
      "cell_type": "code",
      "source": [
        "import re\n",
        "\n",
        "def multiple_replacer(*key_values):\n",
        "    replace_dict = dict(key_values)\n",
        "    replacement_function = lambda match: replace_dict[match.group(0)]\n",
        "    pattern = re.compile(\"|\".join([re.escape(k) for k, v in key_values]), re.M)\n",
        "    return lambda string: pattern.sub(replacement_function, string)\n",
        "\n",
        "def multiple_replace(string, *key_values):\n",
        "    return multiple_replacer(*key_values)(string)\n",
        "  \n",
        "  \n",
        "replacements = (' ','_'), ('%', 'percent'), ('#', 'num'), ('(1-99)', \"\")\n",
        "#Example:  multiple_replace(\"Sales % with #people\", *replacements))"
      ],
      "execution_count": 0,
      "outputs": []
    },
    {
      "metadata": {
        "id": "rI4zjiW1xu9w",
        "colab_type": "code",
        "colab": {}
      },
      "cell_type": "code",
      "source": [
        "ed_col = []\n",
        "ed_columns =[]\n",
        "for col in mass_ed.columns:\n",
        "  ed_col.append(multiple_replace(col, *replacements))\n",
        "for item in ed_col:\n",
        "  ed_columns.append(item.lower())\n",
        "#print(ed_columns) "
      ],
      "execution_count": 0,
      "outputs": []
    },
    {
      "metadata": {
        "id": "BMxI1hckUvDl",
        "colab_type": "code",
        "colab": {}
      },
      "cell_type": "code",
      "source": [
        "mass_ed = mass_ed.replace(np.NAN, 0)"
      ],
      "execution_count": 0,
      "outputs": []
    },
    {
      "metadata": {
        "id": "s8bTG36NUwFJ",
        "colab_type": "code",
        "colab": {}
      },
      "cell_type": "code",
      "source": [
        "mass_ed.columns = ed_columns"
      ],
      "execution_count": 0,
      "outputs": []
    },
    {
      "metadata": {
        "id": "DcS8q4DFhnA8",
        "colab_type": "code",
        "colab": {}
      },
      "cell_type": "code",
      "source": [
        "mass_ed = mass_ed.drop(['school_code', 'function', 'contact_name', 'address_1', 'address_2', 'town', 'state', 'zip', 'phone', 'fax', 'grade', 'district_name', 'district_code'], axis = 1)"
      ],
      "execution_count": 0,
      "outputs": []
    },
    {
      "metadata": {
        "id": "_NdMWhUrwO9p",
        "colab_type": "code",
        "colab": {
          "base_uri": "https://localhost:8080/",
          "height": 51
        },
        "outputId": "061db66d-706e-4830-b1d1-1fded2ad07ab"
      },
      "cell_type": "code",
      "source": [
        "%%time \n",
        "\n",
        "def data_preprocess(x):\n",
        "  if (x['1_enrollment'] > 1) and (x['11_enrollment']> 1) and (x['6_enrollment'] > 1):\n",
        "    x['school_type'] = 0\n",
        "  if (x['pk_enrollment'] > 1) and (x['1_enrollment'] < 1):\n",
        "    x['school_type'] = 4  \n",
        "  elif (x['9_enrollment'] +  x['10_enrollment'] +  x['11_enrollment'] +  x['12_enrollment']) > 1:\n",
        "    x['school_type'] = 3\n",
        "  elif (x['7_enrollment'] > 1):\n",
        "    x['school_type'] = 2\n",
        "  else:\n",
        "    x['school_type'] = 1\n",
        "  \n",
        "  return x\n",
        "  \n",
        "  \n",
        "\n",
        "#mass_ed_copy.apply(lambda x: x['1_enrollment'], axis=1)\n",
        "mass_ed = mass_ed.apply(lambda x: data_preprocess(x), axis=1)"
      ],
      "execution_count": 12,
      "outputs": [
        {
          "output_type": "stream",
          "text": [
            "CPU times: user 618 ms, sys: 13.7 ms, total: 631 ms\n",
            "Wall time: 633 ms\n"
          ],
          "name": "stdout"
        }
      ]
    },
    {
      "metadata": {
        "id": "wMAdPgM5wZBa",
        "colab_type": "code",
        "colab": {
          "base_uri": "https://localhost:8080/",
          "height": 363
        },
        "outputId": "5fb004b7-76ea-40aa-c5c0-bc5d9a7cc8ed"
      },
      "cell_type": "code",
      "source": [
        "mass_ed_high = mass_ed.loc[mass_ed['school_type']==3]\n",
        "mass_ed_high.describe()"
      ],
      "execution_count": 13,
      "outputs": [
        {
          "output_type": "execute_result",
          "data": {
            "text/html": [
              "<div>\n",
              "<style scoped>\n",
              "    .dataframe tbody tr th:only-of-type {\n",
              "        vertical-align: middle;\n",
              "    }\n",
              "\n",
              "    .dataframe tbody tr th {\n",
              "        vertical-align: top;\n",
              "    }\n",
              "\n",
              "    .dataframe thead th {\n",
              "        text-align: right;\n",
              "    }\n",
              "</style>\n",
              "<table border=\"1\" class=\"dataframe\">\n",
              "  <thead>\n",
              "    <tr style=\"text-align: right;\">\n",
              "      <th></th>\n",
              "      <th>school_type</th>\n",
              "      <th>pk_enrollment</th>\n",
              "      <th>k_enrollment</th>\n",
              "      <th>1_enrollment</th>\n",
              "      <th>2_enrollment</th>\n",
              "      <th>3_enrollment</th>\n",
              "      <th>4_enrollment</th>\n",
              "      <th>5_enrollment</th>\n",
              "      <th>6_enrollment</th>\n",
              "      <th>7_enrollment</th>\n",
              "      <th>...</th>\n",
              "      <th>percent_mcas_10thgrade_english_w/f</th>\n",
              "      <th>mcas_10thgrade_english_stud._incl._num</th>\n",
              "      <th>mcas_10thgrade_english_cpi</th>\n",
              "      <th>mcas_10thgrade_english_sgp</th>\n",
              "      <th>mcas_10thgrade_english_incl._in_sgp(num)</th>\n",
              "      <th>school_accountability_percentile_</th>\n",
              "      <th>progress_and_performance_index_(ppi)_-_all_students</th>\n",
              "      <th>progress_and_performance_index_(ppi)_-_high_needs_students</th>\n",
              "      <th>district_progress_and_performance_index_(ppi)_-_all_students</th>\n",
              "      <th>district_progress_and_performance_index_(ppi)_-_high_needs_students</th>\n",
              "    </tr>\n",
              "  </thead>\n",
              "  <tbody>\n",
              "    <tr>\n",
              "      <th>count</th>\n",
              "      <td>386.0</td>\n",
              "      <td>386.000000</td>\n",
              "      <td>386.000000</td>\n",
              "      <td>386.000000</td>\n",
              "      <td>386.000000</td>\n",
              "      <td>386.000000</td>\n",
              "      <td>386.000000</td>\n",
              "      <td>386.000000</td>\n",
              "      <td>386.000000</td>\n",
              "      <td>386.000000</td>\n",
              "      <td>...</td>\n",
              "      <td>386.000000</td>\n",
              "      <td>386.000000</td>\n",
              "      <td>386.000000</td>\n",
              "      <td>386.000000</td>\n",
              "      <td>386.000000</td>\n",
              "      <td>386.000000</td>\n",
              "      <td>386.000000</td>\n",
              "      <td>386.000000</td>\n",
              "      <td>386.000000</td>\n",
              "      <td>386.00000</td>\n",
              "    </tr>\n",
              "    <tr>\n",
              "      <th>mean</th>\n",
              "      <td>3.0</td>\n",
              "      <td>0.207254</td>\n",
              "      <td>3.284974</td>\n",
              "      <td>3.443005</td>\n",
              "      <td>3.279793</td>\n",
              "      <td>3.243523</td>\n",
              "      <td>3.266839</td>\n",
              "      <td>5.813472</td>\n",
              "      <td>11.238342</td>\n",
              "      <td>19.733161</td>\n",
              "      <td>...</td>\n",
              "      <td>2.093264</td>\n",
              "      <td>162.007772</td>\n",
              "      <td>84.419430</td>\n",
              "      <td>41.791451</td>\n",
              "      <td>142.455959</td>\n",
              "      <td>42.800518</td>\n",
              "      <td>62.932642</td>\n",
              "      <td>54.668394</td>\n",
              "      <td>63.303109</td>\n",
              "      <td>59.15285</td>\n",
              "    </tr>\n",
              "    <tr>\n",
              "      <th>std</th>\n",
              "      <td>0.0</td>\n",
              "      <td>2.943370</td>\n",
              "      <td>18.244277</td>\n",
              "      <td>18.774067</td>\n",
              "      <td>18.416381</td>\n",
              "      <td>18.425780</td>\n",
              "      <td>18.326300</td>\n",
              "      <td>26.261946</td>\n",
              "      <td>34.546865</td>\n",
              "      <td>46.309224</td>\n",
              "      <td>...</td>\n",
              "      <td>3.997610</td>\n",
              "      <td>139.683678</td>\n",
              "      <td>32.499896</td>\n",
              "      <td>22.092660</td>\n",
              "      <td>122.546909</td>\n",
              "      <td>32.272848</td>\n",
              "      <td>30.528090</td>\n",
              "      <td>32.072303</td>\n",
              "      <td>17.752961</td>\n",
              "      <td>15.93982</td>\n",
              "    </tr>\n",
              "    <tr>\n",
              "      <th>min</th>\n",
              "      <td>3.0</td>\n",
              "      <td>0.000000</td>\n",
              "      <td>0.000000</td>\n",
              "      <td>0.000000</td>\n",
              "      <td>0.000000</td>\n",
              "      <td>0.000000</td>\n",
              "      <td>0.000000</td>\n",
              "      <td>0.000000</td>\n",
              "      <td>0.000000</td>\n",
              "      <td>0.000000</td>\n",
              "      <td>...</td>\n",
              "      <td>0.000000</td>\n",
              "      <td>0.000000</td>\n",
              "      <td>0.000000</td>\n",
              "      <td>0.000000</td>\n",
              "      <td>0.000000</td>\n",
              "      <td>0.000000</td>\n",
              "      <td>0.000000</td>\n",
              "      <td>0.000000</td>\n",
              "      <td>0.000000</td>\n",
              "      <td>0.00000</td>\n",
              "    </tr>\n",
              "    <tr>\n",
              "      <th>25%</th>\n",
              "      <td>3.0</td>\n",
              "      <td>0.000000</td>\n",
              "      <td>0.000000</td>\n",
              "      <td>0.000000</td>\n",
              "      <td>0.000000</td>\n",
              "      <td>0.000000</td>\n",
              "      <td>0.000000</td>\n",
              "      <td>0.000000</td>\n",
              "      <td>0.000000</td>\n",
              "      <td>0.000000</td>\n",
              "      <td>...</td>\n",
              "      <td>0.000000</td>\n",
              "      <td>55.500000</td>\n",
              "      <td>93.300000</td>\n",
              "      <td>35.125000</td>\n",
              "      <td>45.250000</td>\n",
              "      <td>11.250000</td>\n",
              "      <td>58.000000</td>\n",
              "      <td>47.000000</td>\n",
              "      <td>53.000000</td>\n",
              "      <td>54.00000</td>\n",
              "    </tr>\n",
              "    <tr>\n",
              "      <th>50%</th>\n",
              "      <td>3.0</td>\n",
              "      <td>0.000000</td>\n",
              "      <td>0.000000</td>\n",
              "      <td>0.000000</td>\n",
              "      <td>0.000000</td>\n",
              "      <td>0.000000</td>\n",
              "      <td>0.000000</td>\n",
              "      <td>0.000000</td>\n",
              "      <td>0.000000</td>\n",
              "      <td>0.000000</td>\n",
              "      <td>...</td>\n",
              "      <td>1.000000</td>\n",
              "      <td>120.500000</td>\n",
              "      <td>97.800000</td>\n",
              "      <td>46.750000</td>\n",
              "      <td>111.500000</td>\n",
              "      <td>42.000000</td>\n",
              "      <td>71.000000</td>\n",
              "      <td>65.000000</td>\n",
              "      <td>63.000000</td>\n",
              "      <td>57.00000</td>\n",
              "    </tr>\n",
              "    <tr>\n",
              "      <th>75%</th>\n",
              "      <td>3.0</td>\n",
              "      <td>0.000000</td>\n",
              "      <td>0.000000</td>\n",
              "      <td>0.000000</td>\n",
              "      <td>0.000000</td>\n",
              "      <td>0.000000</td>\n",
              "      <td>0.000000</td>\n",
              "      <td>0.000000</td>\n",
              "      <td>0.000000</td>\n",
              "      <td>0.000000</td>\n",
              "      <td>...</td>\n",
              "      <td>2.000000</td>\n",
              "      <td>260.250000</td>\n",
              "      <td>99.200000</td>\n",
              "      <td>56.750000</td>\n",
              "      <td>221.500000</td>\n",
              "      <td>71.000000</td>\n",
              "      <td>83.000000</td>\n",
              "      <td>76.000000</td>\n",
              "      <td>72.750000</td>\n",
              "      <td>68.00000</td>\n",
              "    </tr>\n",
              "    <tr>\n",
              "      <th>max</th>\n",
              "      <td>3.0</td>\n",
              "      <td>54.000000</td>\n",
              "      <td>178.000000</td>\n",
              "      <td>182.000000</td>\n",
              "      <td>183.000000</td>\n",
              "      <td>191.000000</td>\n",
              "      <td>191.000000</td>\n",
              "      <td>244.000000</td>\n",
              "      <td>242.000000</td>\n",
              "      <td>386.000000</td>\n",
              "      <td>...</td>\n",
              "      <td>44.000000</td>\n",
              "      <td>925.000000</td>\n",
              "      <td>100.000000</td>\n",
              "      <td>88.000000</td>\n",
              "      <td>757.000000</td>\n",
              "      <td>99.000000</td>\n",
              "      <td>100.000000</td>\n",
              "      <td>100.000000</td>\n",
              "      <td>100.000000</td>\n",
              "      <td>100.00000</td>\n",
              "    </tr>\n",
              "  </tbody>\n",
              "</table>\n",
              "<p>8 rows × 284 columns</p>\n",
              "</div>"
            ],
            "text/plain": [
              "       school_type  pk_enrollment  k_enrollment  1_enrollment  2_enrollment  \\\n",
              "count        386.0     386.000000    386.000000    386.000000    386.000000   \n",
              "mean           3.0       0.207254      3.284974      3.443005      3.279793   \n",
              "std            0.0       2.943370     18.244277     18.774067     18.416381   \n",
              "min            3.0       0.000000      0.000000      0.000000      0.000000   \n",
              "25%            3.0       0.000000      0.000000      0.000000      0.000000   \n",
              "50%            3.0       0.000000      0.000000      0.000000      0.000000   \n",
              "75%            3.0       0.000000      0.000000      0.000000      0.000000   \n",
              "max            3.0      54.000000    178.000000    182.000000    183.000000   \n",
              "\n",
              "       3_enrollment  4_enrollment  5_enrollment  6_enrollment  7_enrollment  \\\n",
              "count    386.000000    386.000000    386.000000    386.000000    386.000000   \n",
              "mean       3.243523      3.266839      5.813472     11.238342     19.733161   \n",
              "std       18.425780     18.326300     26.261946     34.546865     46.309224   \n",
              "min        0.000000      0.000000      0.000000      0.000000      0.000000   \n",
              "25%        0.000000      0.000000      0.000000      0.000000      0.000000   \n",
              "50%        0.000000      0.000000      0.000000      0.000000      0.000000   \n",
              "75%        0.000000      0.000000      0.000000      0.000000      0.000000   \n",
              "max      191.000000    191.000000    244.000000    242.000000    386.000000   \n",
              "\n",
              "       ...  percent_mcas_10thgrade_english_w/f  \\\n",
              "count  ...                          386.000000   \n",
              "mean   ...                            2.093264   \n",
              "std    ...                            3.997610   \n",
              "min    ...                            0.000000   \n",
              "25%    ...                            0.000000   \n",
              "50%    ...                            1.000000   \n",
              "75%    ...                            2.000000   \n",
              "max    ...                           44.000000   \n",
              "\n",
              "       mcas_10thgrade_english_stud._incl._num  mcas_10thgrade_english_cpi  \\\n",
              "count                              386.000000                  386.000000   \n",
              "mean                               162.007772                   84.419430   \n",
              "std                                139.683678                   32.499896   \n",
              "min                                  0.000000                    0.000000   \n",
              "25%                                 55.500000                   93.300000   \n",
              "50%                                120.500000                   97.800000   \n",
              "75%                                260.250000                   99.200000   \n",
              "max                                925.000000                  100.000000   \n",
              "\n",
              "       mcas_10thgrade_english_sgp  mcas_10thgrade_english_incl._in_sgp(num)  \\\n",
              "count                  386.000000                                386.000000   \n",
              "mean                    41.791451                                142.455959   \n",
              "std                     22.092660                                122.546909   \n",
              "min                      0.000000                                  0.000000   \n",
              "25%                     35.125000                                 45.250000   \n",
              "50%                     46.750000                                111.500000   \n",
              "75%                     56.750000                                221.500000   \n",
              "max                     88.000000                                757.000000   \n",
              "\n",
              "       school_accountability_percentile_  \\\n",
              "count                         386.000000   \n",
              "mean                           42.800518   \n",
              "std                            32.272848   \n",
              "min                             0.000000   \n",
              "25%                            11.250000   \n",
              "50%                            42.000000   \n",
              "75%                            71.000000   \n",
              "max                            99.000000   \n",
              "\n",
              "       progress_and_performance_index_(ppi)_-_all_students  \\\n",
              "count                                         386.000000     \n",
              "mean                                           62.932642     \n",
              "std                                            30.528090     \n",
              "min                                             0.000000     \n",
              "25%                                            58.000000     \n",
              "50%                                            71.000000     \n",
              "75%                                            83.000000     \n",
              "max                                           100.000000     \n",
              "\n",
              "       progress_and_performance_index_(ppi)_-_high_needs_students  \\\n",
              "count                                         386.000000            \n",
              "mean                                           54.668394            \n",
              "std                                            32.072303            \n",
              "min                                             0.000000            \n",
              "25%                                            47.000000            \n",
              "50%                                            65.000000            \n",
              "75%                                            76.000000            \n",
              "max                                           100.000000            \n",
              "\n",
              "       district_progress_and_performance_index_(ppi)_-_all_students  \\\n",
              "count                                         386.000000              \n",
              "mean                                           63.303109              \n",
              "std                                            17.752961              \n",
              "min                                             0.000000              \n",
              "25%                                            53.000000              \n",
              "50%                                            63.000000              \n",
              "75%                                            72.750000              \n",
              "max                                           100.000000              \n",
              "\n",
              "       district_progress_and_performance_index_(ppi)_-_high_needs_students  \n",
              "count                                          386.00000                    \n",
              "mean                                            59.15285                    \n",
              "std                                             15.93982                    \n",
              "min                                              0.00000                    \n",
              "25%                                             54.00000                    \n",
              "50%                                             57.00000                    \n",
              "75%                                             68.00000                    \n",
              "max                                            100.00000                    \n",
              "\n",
              "[8 rows x 284 columns]"
            ]
          },
          "metadata": {
            "tags": []
          },
          "execution_count": 13
        }
      ]
    },
    {
      "metadata": {
        "id": "VCiz4HLAwaQT",
        "colab_type": "code",
        "colab": {
          "base_uri": "https://localhost:8080/",
          "height": 170
        },
        "outputId": "3acb3c10-9aac-4e0a-a136-bccd6ae5de21"
      },
      "cell_type": "code",
      "source": [
        "mass_ed_high['percent_attending_college'].describe()"
      ],
      "execution_count": 14,
      "outputs": [
        {
          "output_type": "execute_result",
          "data": {
            "text/plain": [
              "count    386.000000\n",
              "mean      63.158808\n",
              "std       30.580845\n",
              "min        0.000000\n",
              "25%       54.625000\n",
              "50%       75.500000\n",
              "75%       85.700000\n",
              "max      100.000000\n",
              "Name: percent_attending_college, dtype: float64"
            ]
          },
          "metadata": {
            "tags": []
          },
          "execution_count": 14
        }
      ]
    },
    {
      "metadata": {
        "id": "slu03JA0U9tH",
        "colab_type": "code",
        "colab": {}
      },
      "cell_type": "code",
      "source": [
        "mass_ed_high = mass_ed_high[mass_ed_high.percent_attending_college != 0]"
      ],
      "execution_count": 0,
      "outputs": []
    },
    {
      "metadata": {
        "id": "HYc1DzD0VmIL",
        "colab_type": "code",
        "colab": {
          "base_uri": "https://localhost:8080/",
          "height": 459
        },
        "outputId": "50685c7e-f294-4f99-d594-edce219c0954"
      },
      "cell_type": "code",
      "source": [
        "print (\"most frequent precentage of college attendance: \\n{} \\n\".format(mass_ed_high['percent_attending_college'].value_counts().head(10)))\n",
        "\n",
        "print (\"less frequent precentage of college attendance: \\n{} \\n\".format(mass_ed_high['percent_attending_college'].value_counts().tail(10)))"
      ],
      "execution_count": 16,
      "outputs": [
        {
          "output_type": "stream",
          "text": [
            "most frequent precentage of college attendance: \n",
            "87.5    5\n",
            "87.7    4\n",
            "89.9    4\n",
            "89.3    4\n",
            "71.4    4\n",
            "89.5    4\n",
            "76.6    3\n",
            "87.9    3\n",
            "84.6    3\n",
            "72.8    3\n",
            "Name: percent_attending_college, dtype: int64 \n",
            "\n",
            "less frequent precentage of college attendance: \n",
            "58.6    1\n",
            "91.7    1\n",
            "52.4    1\n",
            "45.6    1\n",
            "33.6    1\n",
            "84.4    1\n",
            "47.7    1\n",
            "40.7    1\n",
            "42.6    1\n",
            "69.3    1\n",
            "Name: percent_attending_college, dtype: int64 \n",
            "\n"
          ],
          "name": "stdout"
        }
      ]
    },
    {
      "metadata": {
        "id": "4KGAwdyRWRj9",
        "colab_type": "code",
        "colab": {
          "base_uri": "https://localhost:8080/",
          "height": 308
        },
        "outputId": "b7547cfa-7af2-4e88-cbb9-3a65ea9c8cd8"
      },
      "cell_type": "code",
      "source": [
        "sns.distplot(mass_ed_high['percent_attending_college'])"
      ],
      "execution_count": 17,
      "outputs": [
        {
          "output_type": "execute_result",
          "data": {
            "text/plain": [
              "<matplotlib.axes._subplots.AxesSubplot at 0x7f99a4ec8e48>"
            ]
          },
          "metadata": {
            "tags": []
          },
          "execution_count": 17
        },
        {
          "output_type": "display_data",
          "data": {
            "image/png": "[encoded data removed]",
            "text/plain": [
              "<Figure size 432x288 with 1 Axes>"
            ]
          },
          "metadata": {
            "tags": []
          }
        }
      ]
    },
    {
      "metadata": {
        "id": "fLE56EDgYD4f",
        "colab_type": "text"
      },
      "cell_type": "markdown",
      "source": [
        "### Selecting Features"
      ]
    },
    {
      "metadata": {
        "id": "MdpdlLThbp02",
        "colab_type": "code",
        "colab": {
          "base_uri": "https://localhost:8080/",
          "height": 51
        },
        "outputId": "9392739e-cbb9-43e9-bed8-a33c6bf9d299"
      },
      "cell_type": "code",
      "source": [
        "X = mass_ed_high.drop(['high_school_graduates_(num)', 'percent_umass', 'percent_private_two-year', 'percent_public_two-year', 'percent_ma_community_college', 'percent_private_four-year', 'percent_mcas_10thgrade_english_a', 'percent_ma_state_university', 'attending_coll./univ._(num)', 'percent_public_four-year', 'percent_attending_college', 'school_name', 'high_needs', 'economically_disadvantaged', 'percent_mcas_10thgrade_english_p+a', 'accountability_and_assistance_level', 'accountability_and_assistance_description', 'progress_and_performance_index_(ppi)_-_all_students', 'progress_and_performance_index_(ppi)_-_high_needs_students', 'district_accountability_and_assistance_level', 'district_accountability_and_assistance_description', 'district_progress_and_performance_index_(ppi)_-_all_students', 'district_progress_and_performance_index_(ppi)_-_high_needs_students'],axis =1)\n",
        "#X = mass_ed_high.drop(['percent_attending_college'],axis =1)\n",
        "\n",
        "y = mass_ed_high['percent_attending_college'] \n",
        "print(y.shape)\n",
        "print (X.shape)"
      ],
      "execution_count": 18,
      "outputs": [
        {
          "output_type": "stream",
          "text": [
            "(328,)\n",
            "(328, 266)\n"
          ],
          "name": "stdout"
        }
      ]
    },
    {
      "metadata": {
        "id": "mYjqJG1MZhLY",
        "colab_type": "code",
        "colab": {}
      },
      "cell_type": "code",
      "source": [
        ""
      ],
      "execution_count": 0,
      "outputs": []
    },
    {
      "metadata": {
        "id": "OWsV68ZHXygY",
        "colab_type": "code",
        "colab": {}
      },
      "cell_type": "code",
      "source": [
        "from sklearn.model_selection import KFold\n",
        "kfolds = KFold(n_splits =5, random_state=1)"
      ],
      "execution_count": 0,
      "outputs": []
    },
    {
      "metadata": {
        "id": "RAWABsPwbffC",
        "colab_type": "code",
        "colab": {
          "base_uri": "https://localhost:8080/",
          "height": 119
        },
        "outputId": "7bee27df-e85f-4b29-aa33-6c0d70faa2b4"
      },
      "cell_type": "code",
      "source": [
        "forest = RandomForestRegressor(max_depth=7,n_jobs=-1, random_state=1, n_estimators=100, verbose=0)\n",
        "forest.fit(X, y)"
      ],
      "execution_count": 20,
      "outputs": [
        {
          "output_type": "execute_result",
          "data": {
            "text/plain": [
              "RandomForestRegressor(bootstrap=True, criterion='mse', max_depth=7,\n",
              "           max_features='auto', max_leaf_nodes=None,\n",
              "           min_impurity_decrease=0.0, min_impurity_split=None,\n",
              "           min_samples_leaf=1, min_samples_split=2,\n",
              "           min_weight_fraction_leaf=0.0, n_estimators=100, n_jobs=-1,\n",
              "           oob_score=False, random_state=1, verbose=0, warm_start=False)"
            ]
          },
          "metadata": {
            "tags": []
          },
          "execution_count": 20
        }
      ]
    },
    {
      "metadata": {
        "id": "9haSBiirgr2l",
        "colab_type": "code",
        "colab": {
          "base_uri": "https://localhost:8080/",
          "height": 393
        },
        "outputId": "6d00b73f-3d35-4475-af3b-b6c8caa99f33"
      },
      "cell_type": "code",
      "source": [
        "importances_for = forest.feature_importances_\n",
        "\n",
        "indices = np.argsort(importances_for)[::-1]\n",
        "for_imp_feat = []\n",
        "\n",
        "for f in range(X.shape[1]):\n",
        "    for_imp_feat.append(X.columns[indices[f]])\n",
        "\n",
        "importances_df = pd.Series(importances_for, index=X.columns)\n",
        "importances_df.nlargest(15).sort_values().plot(kind='barh', figsize=(12, 6)) \n",
        "plt.title(\"Random Forest Importances\")\n",
        "plt.show()"
      ],
      "execution_count": 21,
      "outputs": [
        {
          "output_type": "display_data",
          "data": {
            "image/png": "[encoded data removed]",
            "text/plain": [
              "<Figure size 864x432 with 1 Axes>"
            ]
          },
          "metadata": {
            "tags": []
          }
        }
      ]
    },
    {
      "metadata": {
        "id": "bkvKWkP0iRrs",
        "colab_type": "code",
        "colab": {
          "base_uri": "https://localhost:8080/",
          "height": 136
        },
        "outputId": "648584bd-cdac-4654-9e5c-183585ae0135"
      },
      "cell_type": "code",
      "source": [
        "import xgboost as xgb\n",
        "xg_reg_lin = xgb.XGBRegressor(objective ='reg:linear', \n",
        "                          learning_rate =0.1,\n",
        " n_estimators=1000,\n",
        " max_depth=5,\n",
        " min_child_weight=1,\n",
        " gamma=0,\n",
        " subsample=0.8,\n",
        " colsample_bytree=0.8,\n",
        "  nthread=4,\n",
        " scale_pos_weight=1, random_state =1)\n",
        "\n",
        "xg_reg_lin.fit(X,y)"
      ],
      "execution_count": 22,
      "outputs": [
        {
          "output_type": "execute_result",
          "data": {
            "text/plain": [
              "XGBRegressor(base_score=0.5, booster='gbtree', colsample_bylevel=1,\n",
              "       colsample_bytree=0.8, gamma=0, importance_type='gain',\n",
              "       learning_rate=0.1, max_delta_step=0, max_depth=5,\n",
              "       min_child_weight=1, missing=None, n_estimators=1000, n_jobs=1,\n",
              "       nthread=4, objective='reg:linear', random_state=1, reg_alpha=0,\n",
              "       reg_lambda=1, scale_pos_weight=1, seed=None, silent=True,\n",
              "       subsample=0.8)"
            ]
          },
          "metadata": {
            "tags": []
          },
          "execution_count": 22
        }
      ]
    },
    {
      "metadata": {
        "id": "hM8J7aAXh3b7",
        "colab_type": "code",
        "colab": {
          "base_uri": "https://localhost:8080/",
          "height": 393
        },
        "outputId": "e22564f6-971f-4a2f-885f-54e2f003e8a3"
      },
      "cell_type": "code",
      "source": [
        "importances_xgb = xg_reg_lin.feature_importances_\n",
        "\n",
        "indices = np.argsort(importances_xgb)[::-1]\n",
        "xgb_imp_feat = []\n",
        "\n",
        "for f in range(X.shape[1]):\n",
        "    xgb_imp_feat.append(X.columns[indices[f]])\n",
        "\n",
        "importances_df = pd.Series(importances_xgb, index=X.columns)\n",
        "importances_df.nlargest(15).sort_values().plot(kind='barh', figsize=(12, 6)) \n",
        "plt.title(\"XGBoost Importances\")\n",
        "plt.show()\n"
      ],
      "execution_count": 23,
      "outputs": [
        {
          "output_type": "display_data",
          "data": {
            "image/png": "[encoded data removed]",
            "text/plain": [
              "<Figure size 864x432 with 1 Axes>"
            ]
          },
          "metadata": {
            "tags": []
          }
        }
      ]
    },
    {
      "metadata": {
        "id": "PtNxY6zpjIxP",
        "colab_type": "code",
        "colab": {
          "base_uri": "https://localhost:8080/",
          "height": 68
        },
        "outputId": "f8af2e85-c10b-41c8-a242-85ea3e7c43c6"
      },
      "cell_type": "code",
      "source": [
        "from sklearn import linear_model\n",
        "\n",
        "lasso = linear_model.Lasso(alpha=0.9, copy_X=True, fit_intercept=False, max_iter=300,\n",
        "   normalize=True, positive=False, precompute=False, random_state=1,\n",
        "   selection='cyclic', tol=0.0001, warm_start=False)\n",
        "lasso.fit(X,y)"
      ],
      "execution_count": 24,
      "outputs": [
        {
          "output_type": "execute_result",
          "data": {
            "text/plain": [
              "Lasso(alpha=0.9, copy_X=True, fit_intercept=False, max_iter=300,\n",
              "   normalize=True, positive=False, precompute=False, random_state=1,\n",
              "   selection='cyclic', tol=0.0001, warm_start=False)"
            ]
          },
          "metadata": {
            "tags": []
          },
          "execution_count": 24
        }
      ]
    },
    {
      "metadata": {
        "id": "3MGhH10Go8lE",
        "colab_type": "code",
        "colab": {}
      },
      "cell_type": "code",
      "source": [
        "#np.argsort(lasso.coef_)[::-1]\n",
        "\n"
      ],
      "execution_count": 0,
      "outputs": []
    },
    {
      "metadata": {
        "id": "c42_UbpsqIk2",
        "colab_type": "code",
        "colab": {}
      },
      "cell_type": "code",
      "source": [
        "#X.columns[abs(lasso.coef_) > 10**-6]\n",
        "\n",
        "#X.columns[23]"
      ],
      "execution_count": 0,
      "outputs": []
    },
    {
      "metadata": {
        "id": "fxUMWc99pBS0",
        "colab_type": "code",
        "colab": {
          "base_uri": "https://localhost:8080/",
          "height": 393
        },
        "outputId": "47b88315-4885-4fd4-b47c-b8ecc7cddf4e"
      },
      "cell_type": "code",
      "source": [
        "indices = np.argsort(lasso.coef_)[::-1]\n",
        "lasso_imp_feat = []\n",
        "\n",
        "for f in range(X.shape[1]):\n",
        "    lasso_imp_feat.append(X.columns[indices[f]])\n",
        "\n",
        "importances_df = pd.Series(lasso.coef_, index=X.columns)\n",
        "importances_df.nlargest(15).sort_values().plot(kind='barh', figsize=(12, 6)) \n",
        "plt.title(\"Lasso Importances\")\n",
        "plt.show()"
      ],
      "execution_count": 26,
      "outputs": [
        {
          "output_type": "display_data",
          "data": {
            "image/png": "[encoded data removed]",
            "text/plain": [
              "<Figure size 864x432 with 1 Axes>"
            ]
          },
          "metadata": {
            "tags": []
          }
        }
      ]
    },
    {
      "metadata": {
        "id": "X6VbNz9Kr6am",
        "colab_type": "code",
        "colab": {
          "base_uri": "https://localhost:8080/",
          "height": 54
        },
        "outputId": "e6214618-75a9-48c7-b6b4-a5e31f460081"
      },
      "cell_type": "code",
      "source": [
        "# Function to find common elements in n arrays \n",
        "def commonElements(arr): \n",
        "\t\n",
        "\t# initialize result with first array as a set \n",
        "\tresult = set(arr[0]) \n",
        "\n",
        "\t# now iterate through list of arrays starting from \n",
        "\t# second array and take intersection_update() of \n",
        "\t# each array with result. Every operation will \n",
        "\t# update value of result with common values in \n",
        "\t# result set and intersected set \n",
        "\tfor currSet in arr[1:]: \n",
        "\t\tresult.intersection_update(currSet) \n",
        "\n",
        "\treturn list(result) \n",
        "\n",
        " \n",
        "arr = [lasso_imp_feat[:50], xgb_imp_feat[:50], for_imp_feat[:50]] \n",
        "output = commonElements(arr) \n",
        "if len(output) > 0: \n",
        "\tprint (output, len(output))\n",
        "else: \n",
        "\tprint ('No Common Elements Found')\n"
      ],
      "execution_count": 27,
      "outputs": [
        {
          "output_type": "stream",
          "text": [
            "['percent_asian', 'percent_graduated', 'average_sat_writing', 'percent_mcas_10thgrade_math_p+a', '12_enrollment', '10_enrollment', 'ap_test_takers', 'percent_mcas_10thgrade_math_a', 'percent_ap_score_3-5', 'average_salary', 'average_sat_reading', 'percent_african_american', 'sat_tests_taken', 'percent_females', 'students_with_disabilities', 'mcas_10thgrade_math_cpi', 'average_sat_math'] 17\n"
          ],
          "name": "stdout"
        }
      ]
    },
    {
      "metadata": {
        "id": "Pjo9W23lkfg1",
        "colab_type": "code",
        "colab": {
          "base_uri": "https://localhost:8080/",
          "height": 306
        },
        "outputId": "63095c6b-ba9d-4846-e713-298e4475f0ad"
      },
      "cell_type": "code",
      "source": [
        "output "
      ],
      "execution_count": 28,
      "outputs": [
        {
          "output_type": "execute_result",
          "data": {
            "text/plain": [
              "['percent_asian',\n",
              " 'percent_graduated',\n",
              " 'average_sat_writing',\n",
              " 'percent_mcas_10thgrade_math_p+a',\n",
              " '12_enrollment',\n",
              " '10_enrollment',\n",
              " 'ap_test_takers',\n",
              " 'percent_mcas_10thgrade_math_a',\n",
              " 'percent_ap_score_3-5',\n",
              " 'average_salary',\n",
              " 'average_sat_reading',\n",
              " 'percent_african_american',\n",
              " 'sat_tests_taken',\n",
              " 'percent_females',\n",
              " 'students_with_disabilities',\n",
              " 'mcas_10thgrade_math_cpi',\n",
              " 'average_sat_math']"
            ]
          },
          "metadata": {
            "tags": []
          },
          "execution_count": 28
        }
      ]
    },
    {
      "metadata": {
        "id": "oiC8lufh5Wn-",
        "colab_type": "code",
        "colab": {}
      },
      "cell_type": "code",
      "source": [
        "X_for = X[list(for_imp_feat)]\n",
        "\n",
        "X_xgb = X[list(xgb_imp_feat)]\n",
        "\n",
        "X_lasso =X[list(lasso_imp_feat)]\n",
        "\n",
        "X_out =X[list(output)]"
      ],
      "execution_count": 0,
      "outputs": []
    },
    {
      "metadata": {
        "id": "PEVhDqQO5ODb",
        "colab_type": "code",
        "colab": {
          "base_uri": "https://localhost:8080/",
          "height": 34
        },
        "outputId": "e6341c27-5a64-4e7b-e6d1-63be40020823"
      },
      "cell_type": "code",
      "source": [
        "X_train_for, X_test_for, y_train_for, y_test_for = train_test_split(X_for, y, test_size=0.2, random_state=1)\n",
        "y_train_for.shape\n",
        "\n",
        "X_train_xgb, X_test_xgb, y_train_xgb, y_test_xgb = train_test_split(X_xgb, y, test_size=0.2, random_state=1)\n",
        "y_train_xgb.shape\n",
        "\n",
        "X_train_lasso, X_test_lasso, y_train_lasso, y_test_lasso = train_test_split(X_lasso, y, test_size=0.2, random_state=1)\n",
        "y_train_lasso.shape\n",
        "\n",
        "X_train_out, X_test_out, y_train_out, y_test_out = train_test_split(X_out, y, test_size=0.2, random_state=1)\n",
        "y_train_out.shape\n"
      ],
      "execution_count": 30,
      "outputs": [
        {
          "output_type": "execute_result",
          "data": {
            "text/plain": [
              "(262,)"
            ]
          },
          "metadata": {
            "tags": []
          },
          "execution_count": 30
        }
      ]
    },
    {
      "metadata": {
        "id": "H3jONsGnwT3i",
        "colab_type": "code",
        "colab": {
          "base_uri": "https://localhost:8080/",
          "height": 170
        },
        "outputId": "922d0044-0929-42e0-8b4c-780eadb0b3d4"
      },
      "cell_type": "code",
      "source": [
        "alpha_list = [.85, .9, .95]\n",
        "parameters = {'alpha': alpha_list,\n",
        "                    'fit_intercept': [False], \n",
        "                    'normalize' :[True], 'max_iter':[25, 50, 100, 150, 200, 300, 350]}\n",
        "for_lasso_grid = GridSearchCV(lasso, parameters, cv=kfolds, scoring='neg_mean_squared_error')\n",
        "for_lasso_grid.fit(X_train_for,y_train_for)\n",
        "\n"
      ],
      "execution_count": 31,
      "outputs": [
        {
          "output_type": "execute_result",
          "data": {
            "text/plain": [
              "GridSearchCV(cv=KFold(n_splits=5, random_state=1, shuffle=False),\n",
              "       error_score='raise-deprecating',\n",
              "       estimator=Lasso(alpha=0.9, copy_X=True, fit_intercept=False, max_iter=300,\n",
              "   normalize=True, positive=False, precompute=False, random_state=1,\n",
              "   selection='cyclic', tol=0.0001, warm_start=False),\n",
              "       fit_params=None, iid='warn', n_jobs=None,\n",
              "       param_grid={'alpha': [0.85, 0.9, 0.95], 'fit_intercept': [False], 'normalize': [True], 'max_iter': [25, 50, 100, 150, 200, 300, 350]},\n",
              "       pre_dispatch='2*n_jobs', refit=True, return_train_score='warn',\n",
              "       scoring='neg_mean_squared_error', verbose=0)"
            ]
          },
          "metadata": {
            "tags": []
          },
          "execution_count": 31
        }
      ]
    },
    {
      "metadata": {
        "id": "auPBWv9h__P2",
        "colab_type": "code",
        "colab": {
          "base_uri": "https://localhost:8080/",
          "height": 68
        },
        "outputId": "e43dea85-4817-41a7-8a66-badbce90207d"
      },
      "cell_type": "code",
      "source": [
        "for_lasso_grid.best_estimator_"
      ],
      "execution_count": 32,
      "outputs": [
        {
          "output_type": "execute_result",
          "data": {
            "text/plain": [
              "Lasso(alpha=0.95, copy_X=True, fit_intercept=False, max_iter=50,\n",
              "   normalize=True, positive=False, precompute=False, random_state=1,\n",
              "   selection='cyclic', tol=0.0001, warm_start=False)"
            ]
          },
          "metadata": {
            "tags": []
          },
          "execution_count": 32
        }
      ]
    },
    {
      "metadata": {
        "id": "yPZWahyL_bxG",
        "colab_type": "code",
        "colab": {
          "base_uri": "https://localhost:8080/",
          "height": 34
        },
        "outputId": "4892df19-e92f-41d8-afc3-7ffa5fa4d952"
      },
      "cell_type": "code",
      "source": [
        "-(for_lasso_grid.best_score_)"
      ],
      "execution_count": 33,
      "outputs": [
        {
          "output_type": "execute_result",
          "data": {
            "text/plain": [
              "75.88092847744097"
            ]
          },
          "metadata": {
            "tags": []
          },
          "execution_count": 33
        }
      ]
    },
    {
      "metadata": {
        "id": "PeUgqdvs_uYJ",
        "colab_type": "code",
        "colab": {
          "base_uri": "https://localhost:8080/",
          "height": 170
        },
        "outputId": "23528bbe-727c-42a8-e4ea-d728810278c7"
      },
      "cell_type": "code",
      "source": [
        "alpha_list = [.85, .9, .95]\n",
        "parameters = {'alpha': alpha_list,\n",
        "                    'fit_intercept': [False], \n",
        "                    'normalize' :[True], 'max_iter':[25, 50, 100, 150, 200, 300, 350]}\n",
        "xgb_lasso_grid = GridSearchCV(lasso, parameters, cv=kfolds, scoring='neg_mean_squared_error')\n",
        "xgb_lasso_grid.fit(X_train_xgb,y_train_xgb)"
      ],
      "execution_count": 34,
      "outputs": [
        {
          "output_type": "execute_result",
          "data": {
            "text/plain": [
              "GridSearchCV(cv=KFold(n_splits=5, random_state=1, shuffle=False),\n",
              "       error_score='raise-deprecating',\n",
              "       estimator=Lasso(alpha=0.9, copy_X=True, fit_intercept=False, max_iter=300,\n",
              "   normalize=True, positive=False, precompute=False, random_state=1,\n",
              "   selection='cyclic', tol=0.0001, warm_start=False),\n",
              "       fit_params=None, iid='warn', n_jobs=None,\n",
              "       param_grid={'alpha': [0.85, 0.9, 0.95], 'fit_intercept': [False], 'normalize': [True], 'max_iter': [25, 50, 100, 150, 200, 300, 350]},\n",
              "       pre_dispatch='2*n_jobs', refit=True, return_train_score='warn',\n",
              "       scoring='neg_mean_squared_error', verbose=0)"
            ]
          },
          "metadata": {
            "tags": []
          },
          "execution_count": 34
        }
      ]
    },
    {
      "metadata": {
        "id": "0P8rceJ7AkQa",
        "colab_type": "code",
        "colab": {
          "base_uri": "https://localhost:8080/",
          "height": 68
        },
        "outputId": "2953f5b6-434d-4011-ea74-4fc2f7d6a401"
      },
      "cell_type": "code",
      "source": [
        "xgb_lasso_grid.best_estimator_"
      ],
      "execution_count": 35,
      "outputs": [
        {
          "output_type": "execute_result",
          "data": {
            "text/plain": [
              "Lasso(alpha=0.95, copy_X=True, fit_intercept=False, max_iter=50,\n",
              "   normalize=True, positive=False, precompute=False, random_state=1,\n",
              "   selection='cyclic', tol=0.0001, warm_start=False)"
            ]
          },
          "metadata": {
            "tags": []
          },
          "execution_count": 35
        }
      ]
    },
    {
      "metadata": {
        "id": "AZOuXIsAApUe",
        "colab_type": "code",
        "colab": {
          "base_uri": "https://localhost:8080/",
          "height": 34
        },
        "outputId": "ec682906-3e30-4d5b-8bc4-9af9be4c8e54"
      },
      "cell_type": "code",
      "source": [
        "-(xgb_lasso_grid.best_score_)"
      ],
      "execution_count": 36,
      "outputs": [
        {
          "output_type": "execute_result",
          "data": {
            "text/plain": [
              "76.31263340777832"
            ]
          },
          "metadata": {
            "tags": []
          },
          "execution_count": 36
        }
      ]
    },
    {
      "metadata": {
        "id": "Hqf7YVQaWKCd",
        "colab_type": "code",
        "colab": {
          "base_uri": "https://localhost:8080/",
          "height": 170
        },
        "outputId": "38075649-029a-4afe-f4ac-434a58236eeb"
      },
      "cell_type": "code",
      "source": [
        "alpha_list = [.85, .9, .95]\n",
        "parameters = {'alpha': alpha_list,\n",
        "                    'fit_intercept': [False], \n",
        "                    'normalize' :[True], 'max_iter':[25, 50, 100, 150, 200, 300, 350]}\n",
        "out_lasso_grid = GridSearchCV(lasso, parameters, cv=kfolds, scoring='neg_mean_squared_error')\n",
        "out_lasso_grid.fit(X_train_out,y_train_out)"
      ],
      "execution_count": 45,
      "outputs": [
        {
          "output_type": "execute_result",
          "data": {
            "text/plain": [
              "GridSearchCV(cv=KFold(n_splits=5, random_state=1, shuffle=False),\n",
              "       error_score='raise-deprecating',\n",
              "       estimator=Lasso(alpha=0.9, copy_X=True, fit_intercept=False, max_iter=300,\n",
              "   normalize=True, positive=False, precompute=False, random_state=1,\n",
              "   selection='cyclic', tol=0.0001, warm_start=False),\n",
              "       fit_params=None, iid='warn', n_jobs=None,\n",
              "       param_grid={'alpha': [0.85, 0.9, 0.95], 'fit_intercept': [False], 'normalize': [True], 'max_iter': [25, 50, 100, 150, 200, 300, 350]},\n",
              "       pre_dispatch='2*n_jobs', refit=True, return_train_score='warn',\n",
              "       scoring='neg_mean_squared_error', verbose=0)"
            ]
          },
          "metadata": {
            "tags": []
          },
          "execution_count": 45
        }
      ]
    },
    {
      "metadata": {
        "id": "cYd0SipYWm_c",
        "colab_type": "code",
        "colab": {
          "base_uri": "https://localhost:8080/",
          "height": 34
        },
        "outputId": "2b57ba8a-68ee-4a26-9751-761abac89268"
      },
      "cell_type": "code",
      "source": [
        "-(out_lasso_grid.best_score_)"
      ],
      "execution_count": 46,
      "outputs": [
        {
          "output_type": "execute_result",
          "data": {
            "text/plain": [
              "77.04767499917823"
            ]
          },
          "metadata": {
            "tags": []
          },
          "execution_count": 46
        }
      ]
    },
    {
      "metadata": {
        "id": "DXI8m-8kAtTo",
        "colab_type": "code",
        "colab": {
          "base_uri": "https://localhost:8080/",
          "height": 51
        },
        "outputId": "5cadc910-34a0-46d2-ab50-4837fb65ec30"
      },
      "cell_type": "code",
      "source": [
        "%%time\n",
        "\n",
        "from sklearn.linear_model import Ridge\n",
        "ridge_reg = Ridge(alpha = 0.5)\n",
        "\n",
        "for_ridge_grid = GridSearchCV(ridge_reg, parameters, cv=kfolds, n_jobs=-1, scoring='neg_mean_squared_error')\n",
        "for_ridge_grid.fit(X_train_for, y_train_for)\n",
        "\n",
        "\n",
        "\n"
      ],
      "execution_count": 38,
      "outputs": [
        {
          "output_type": "stream",
          "text": [
            "CPU times: user 162 ms, sys: 20.1 ms, total: 182 ms\n",
            "Wall time: 2.07 s\n"
          ],
          "name": "stdout"
        }
      ]
    },
    {
      "metadata": {
        "id": "r5AZ-4mmVtA6",
        "colab_type": "code",
        "colab": {
          "base_uri": "https://localhost:8080/",
          "height": 34
        },
        "outputId": "430e5a60-3192-4367-b947-aa6736f328eb"
      },
      "cell_type": "code",
      "source": [
        "-(for_ridge_grid.best_score_)"
      ],
      "execution_count": 39,
      "outputs": [
        {
          "output_type": "execute_result",
          "data": {
            "text/plain": [
              "137.02993508485113"
            ]
          },
          "metadata": {
            "tags": []
          },
          "execution_count": 39
        }
      ]
    },
    {
      "metadata": {
        "id": "MhAfx4S-VGaT",
        "colab_type": "code",
        "colab": {
          "base_uri": "https://localhost:8080/",
          "height": 51
        },
        "outputId": "ae98eea5-ffcc-4500-959f-5b4101bc1c4d"
      },
      "cell_type": "code",
      "source": [
        "%%time\n",
        "\n",
        "from sklearn.linear_model import Ridge\n",
        "ridge_reg = Ridge(alpha = 0.5)\n",
        "\n",
        "xgb_ridge_grid = GridSearchCV(ridge_reg, parameters, cv=kfolds, n_jobs=-1, scoring='neg_mean_squared_error')\n",
        "xgb_ridge_grid.fit(X_train_xgb, y_train_xgb)\n",
        "\n"
      ],
      "execution_count": 41,
      "outputs": [
        {
          "output_type": "stream",
          "text": [
            "CPU times: user 166 ms, sys: 16 ms, total: 182 ms\n",
            "Wall time: 2.42 s\n"
          ],
          "name": "stdout"
        }
      ]
    },
    {
      "metadata": {
        "id": "zZ0oeOLGVxKf",
        "colab_type": "code",
        "colab": {
          "base_uri": "https://localhost:8080/",
          "height": 34
        },
        "outputId": "b514205d-e54e-48b2-cfe6-5bdc1ca263c0"
      },
      "cell_type": "code",
      "source": [
        "-(xgb_ridge_grid.best_score_)"
      ],
      "execution_count": 42,
      "outputs": [
        {
          "output_type": "execute_result",
          "data": {
            "text/plain": [
              "125.66261018354007"
            ]
          },
          "metadata": {
            "tags": []
          },
          "execution_count": 42
        }
      ]
    },
    {
      "metadata": {
        "id": "LVGfTxd4VFQ_",
        "colab_type": "code",
        "colab": {
          "base_uri": "https://localhost:8080/",
          "height": 51
        },
        "outputId": "a2be5755-b9c8-4236-efd3-df83e86001de"
      },
      "cell_type": "code",
      "source": [
        "%%time\n",
        "\n",
        "from sklearn.linear_model import Ridge\n",
        "ridge_reg = Ridge(alpha = 0.5)\n",
        "\n",
        "lasso_ridge_grid = GridSearchCV(ridge_reg, parameters, cv=kfolds, n_jobs=-1, scoring='neg_mean_squared_error')\n",
        "lasso_ridge_grid.fit(X_train_lasso, y_train_lasso)\n",
        "\n"
      ],
      "execution_count": 43,
      "outputs": [
        {
          "output_type": "stream",
          "text": [
            "CPU times: user 141 ms, sys: 24.8 ms, total: 165 ms\n",
            "Wall time: 2.01 s\n"
          ],
          "name": "stdout"
        }
      ]
    },
    {
      "metadata": {
        "id": "b4Xy4UTJV76C",
        "colab_type": "code",
        "colab": {
          "base_uri": "https://localhost:8080/",
          "height": 34
        },
        "outputId": "b81ee40e-bdf6-4a31-94f4-e74b7e56ead7"
      },
      "cell_type": "code",
      "source": [
        "-(lasso_ridge_grid.best_score_)"
      ],
      "execution_count": 44,
      "outputs": [
        {
          "output_type": "execute_result",
          "data": {
            "text/plain": [
              "122.46917635195841"
            ]
          },
          "metadata": {
            "tags": []
          },
          "execution_count": 44
        }
      ]
    },
    {
      "metadata": {
        "id": "aAYWMNqMWEdu",
        "colab_type": "code",
        "colab": {}
      },
      "cell_type": "code",
      "source": [
        "forest = RandomForestRegressor(max_depth=7,n_jobs=-1, random_state=1, n_estimators=100, verbose=0)\n",
        "forest.fit(X, y)\n",
        "\n",
        "parameters = {'max_depth': ['2', '4', '6', '7','8'], 'max_leaf_nodes': ['None' , '2', '4', '5', '7', '10'] }\n",
        "\n",
        "for_forest_grid = GridSearchCV(forest,parameters, cv=kfolds, random_state = 1, "
      ],
      "execution_count": 0,
      "outputs": []
    },
    {
      "metadata": {
        "id": "J5DC1JjFXi0b",
        "colab_type": "code",
        "colab": {}
      },
      "cell_type": "code",
      "source": [
        "bootstrap=True, criterion='mse', max_depth=7,\n",
        "           max_features='auto', max_leaf_nodes=None,\n",
        "           min_impurity_decrease=0.0, min_impurity_split=None,\n",
        "           min_samples_leaf=1, min_samples_split=2,\n",
        "           min_weight_fraction_leaf=0.0, n_estimators=100, n_jobs=-1,\n",
        "           oob_score=False, random_state=1, verbose=0, warm_start=False)"
      ],
      "execution_count": 0,
      "outputs": []
    }
  ]
}